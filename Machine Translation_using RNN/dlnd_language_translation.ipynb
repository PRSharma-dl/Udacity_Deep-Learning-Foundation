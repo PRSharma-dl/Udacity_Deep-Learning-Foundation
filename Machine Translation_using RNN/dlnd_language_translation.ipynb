{
 "cells": [
  {
   "cell_type": "markdown",
   "metadata": {
    "collapsed": true,
    "deletable": true,
    "editable": true
   },
   "source": [
    "# Language Translation\n",
    "In this project, you’re going to take a peek into the realm of neural network machine translation.  You’ll be training a sequence to sequence model on a dataset of English and French sentences that can translate new sentences from English to French.\n",
    "## Get the Data\n",
    "Since translating the whole language of English to French will take lots of time to train, we have provided you with a small portion of the English corpus."
   ]
  },
  {
   "cell_type": "code",
   "execution_count": 1,
   "metadata": {
    "collapsed": false,
    "deletable": true,
    "editable": true
   },
   "outputs": [],
   "source": [
    "\"\"\"\n",
    "DON'T MODIFY ANYTHING IN THIS CELL\n",
    "\"\"\"\n",
    "import helper\n",
    "import problem_unittests as tests\n",
    "\n",
    "source_path = 'data/small_vocab_en'\n",
    "target_path = 'data/small_vocab_fr'\n",
    "source_text = helper.load_data(source_path)\n",
    "target_text = helper.load_data(target_path)"
   ]
  },
  {
   "cell_type": "markdown",
   "metadata": {
    "deletable": true,
    "editable": true
   },
   "source": [
    "## Explore the Data\n",
    "Play around with view_sentence_range to view different parts of the data."
   ]
  },
  {
   "cell_type": "code",
   "execution_count": 2,
   "metadata": {
    "collapsed": false,
    "deletable": true,
    "editable": true
   },
   "outputs": [
    {
     "name": "stdout",
     "output_type": "stream",
     "text": [
      "Dataset Stats\n",
      "Roughly the number of unique words: 227\n",
      "Number of sentences: 137861\n",
      "Average number of words in a sentence: 13.225277634719028\n",
      "\n",
      "English sentences 0 to 10:\n",
      "new jersey is sometimes quiet during autumn , and it is snowy in april .\n",
      "the united states is usually chilly during july , and it is usually freezing in november .\n",
      "california is usually quiet during march , and it is usually hot in june .\n",
      "the united states is sometimes mild during june , and it is cold in september .\n",
      "your least liked fruit is the grape , but my least liked is the apple .\n",
      "his favorite fruit is the orange , but my favorite is the grape .\n",
      "paris is relaxing during december , but it is usually chilly in july .\n",
      "new jersey is busy during spring , and it is never hot in march .\n",
      "our least liked fruit is the lemon , but my least liked is the grape .\n",
      "the united states is sometimes busy during january , and it is sometimes warm in november .\n",
      "\n",
      "French sentences 0 to 10:\n",
      "new jersey est parfois calme pendant l' automne , et il est neigeux en avril .\n",
      "les états-unis est généralement froid en juillet , et il gèle habituellement en novembre .\n",
      "california est généralement calme en mars , et il est généralement chaud en juin .\n",
      "les états-unis est parfois légère en juin , et il fait froid en septembre .\n",
      "votre moins aimé fruit est le raisin , mais mon moins aimé est la pomme .\n",
      "son fruit préféré est l'orange , mais mon préféré est le raisin .\n",
      "paris est relaxant en décembre , mais il est généralement froid en juillet .\n",
      "new jersey est occupé au printemps , et il est jamais chaude en mars .\n",
      "notre fruit est moins aimé le citron , mais mon moins aimé est le raisin .\n",
      "les états-unis est parfois occupé en janvier , et il est parfois chaud en novembre .\n"
     ]
    }
   ],
   "source": [
    "view_sentence_range = (0, 10)\n",
    "\n",
    "\"\"\"\n",
    "DON'T MODIFY ANYTHING IN THIS CELL\n",
    "\"\"\"\n",
    "import numpy as np\n",
    "\n",
    "print('Dataset Stats')\n",
    "print('Roughly the number of unique words: {}'.format(len({word: None for word in source_text.split()})))\n",
    "\n",
    "sentences = source_text.split('\\n')\n",
    "word_counts = [len(sentence.split()) for sentence in sentences]\n",
    "print('Number of sentences: {}'.format(len(sentences)))\n",
    "print('Average number of words in a sentence: {}'.format(np.average(word_counts)))\n",
    "\n",
    "print()\n",
    "print('English sentences {} to {}:'.format(*view_sentence_range))\n",
    "print('\\n'.join(source_text.split('\\n')[view_sentence_range[0]:view_sentence_range[1]]))\n",
    "print()\n",
    "print('French sentences {} to {}:'.format(*view_sentence_range))\n",
    "print('\\n'.join(target_text.split('\\n')[view_sentence_range[0]:view_sentence_range[1]]))"
   ]
  },
  {
   "cell_type": "markdown",
   "metadata": {
    "deletable": true,
    "editable": true
   },
   "source": [
    "## Implement Preprocessing Function\n",
    "### Text to Word Ids\n",
    "As you did with other RNNs, you must turn the text into a number so the computer can understand it. In the function `text_to_ids()`, you'll turn `source_text` and `target_text` from words to ids.  However, you need to add the `<EOS>` word id at the end of each sentence from `target_text`.  This will help the neural network predict when the sentence should end.\n",
    "\n",
    "You can get the `<EOS>` word id by doing:\n",
    "```python\n",
    "target_vocab_to_int['<EOS>']\n",
    "```\n",
    "You can get other word ids using `source_vocab_to_int` and `target_vocab_to_int`."
   ]
  },
  {
   "cell_type": "code",
   "execution_count": 3,
   "metadata": {
    "collapsed": false,
    "deletable": true,
    "editable": true
   },
   "outputs": [
    {
     "name": "stdout",
     "output_type": "stream",
     "text": [
      "Tests Passed\n"
     ]
    }
   ],
   "source": [
    "def text_to_ids(source_text, target_text, source_vocab_to_int, target_vocab_to_int):\n",
    "    \"\"\"\n",
    "    Convert source and target text to proper word ids\n",
    "    :param source_text: String that contains all the source text.\n",
    "    :param target_text: String that contains all the target text.\n",
    "    :param source_vocab_to_int: Dictionary to go from the source words to an id\n",
    "    :param target_vocab_to_int: Dictionary to go from the target words to an id\n",
    "    :return: A tuple of lists (source_id_text, target_id_text)\n",
    "    \"\"\"\n",
    "    \n",
    "    sentences = source_text.split('\\n')\n",
    "    source_id = []\n",
    "    \n",
    "    for line in sentences:\n",
    "        line_id = [source_vocab_to_int[word] for word in line.split(' ') if(word in source_vocab_to_int)]\n",
    "        source_id.append(line_id)   \n",
    "        \n",
    "    sentences = target_text.split('\\n')\n",
    "    target_id = []\n",
    "    for line in sentences:\n",
    "        line_id = [target_vocab_to_int[word] for word in line.split(' ') if(word in target_vocab_to_int)]\n",
    "        line_id.append(target_vocab_to_int['<EOS>'])\n",
    "        target_id.append(line_id)   \n",
    "       \n",
    "    return source_id, target_id\n",
    "\n",
    "\"\"\"\n",
    "DON'T MODIFY ANYTHING IN THIS CELL THAT IS BELOW THIS LINE\n",
    "\"\"\"\n",
    "tests.test_text_to_ids(text_to_ids)"
   ]
  },
  {
   "cell_type": "markdown",
   "metadata": {
    "deletable": true,
    "editable": true
   },
   "source": [
    "### Preprocess all the data and save it\n",
    "Running the code cell below will preprocess all the data and save it to file."
   ]
  },
  {
   "cell_type": "code",
   "execution_count": 4,
   "metadata": {
    "collapsed": false,
    "deletable": true,
    "editable": true
   },
   "outputs": [],
   "source": [
    "\"\"\"\n",
    "DON'T MODIFY ANYTHING IN THIS CELL\n",
    "\"\"\"\n",
    "helper.preprocess_and_save_data(source_path, target_path, text_to_ids)"
   ]
  },
  {
   "cell_type": "markdown",
   "metadata": {
    "deletable": true,
    "editable": true
   },
   "source": [
    "# Check Point\n",
    "This is your first checkpoint. If you ever decide to come back to this notebook or have to restart the notebook, you can start from here. The preprocessed data has been saved to disk."
   ]
  },
  {
   "cell_type": "code",
   "execution_count": 5,
   "metadata": {
    "collapsed": false,
    "deletable": true,
    "editable": true
   },
   "outputs": [],
   "source": [
    "\"\"\"\n",
    "DON'T MODIFY ANYTHING IN THIS CELL\n",
    "\"\"\"\n",
    "import numpy as np\n",
    "import helper\n",
    "\n",
    "(source_int_text, target_int_text), (source_vocab_to_int, target_vocab_to_int), _ = helper.load_preprocess()"
   ]
  },
  {
   "cell_type": "markdown",
   "metadata": {
    "deletable": true,
    "editable": true
   },
   "source": [
    "### Check the Version of TensorFlow and Access to GPU\n",
    "This will check to make sure you have the correct version of TensorFlow and access to a GPU"
   ]
  },
  {
   "cell_type": "code",
   "execution_count": 6,
   "metadata": {
    "collapsed": false,
    "deletable": true,
    "editable": true
   },
   "outputs": [
    {
     "name": "stdout",
     "output_type": "stream",
     "text": [
      "TensorFlow Version: 1.0.0\n",
      "Default GPU Device: /gpu:0\n"
     ]
    }
   ],
   "source": [
    "\"\"\"\n",
    "DON'T MODIFY ANYTHING IN THIS CELL\n",
    "\"\"\"\n",
    "from distutils.version import LooseVersion\n",
    "import warnings\n",
    "import tensorflow as tf\n",
    "\n",
    "# Check TensorFlow Version\n",
    "assert LooseVersion(tf.__version__) in [LooseVersion('1.0.0'), LooseVersion('1.0.1')], 'This project requires TensorFlow version 1.0  You are using {}'.format(tf.__version__)\n",
    "print('TensorFlow Version: {}'.format(tf.__version__))\n",
    "\n",
    "# Check for a GPU\n",
    "if not tf.test.gpu_device_name():\n",
    "    warnings.warn('No GPU found. Please use a GPU to train your neural network.')\n",
    "else:\n",
    "    print('Default GPU Device: {}'.format(tf.test.gpu_device_name()))"
   ]
  },
  {
   "cell_type": "markdown",
   "metadata": {
    "deletable": true,
    "editable": true
   },
   "source": [
    "## Build the Neural Network\n",
    "You'll build the components necessary to build a Sequence-to-Sequence model by implementing the following functions below:\n",
    "- `model_inputs`\n",
    "- `process_decoding_input`\n",
    "- `encoding_layer`\n",
    "- `decoding_layer_train`\n",
    "- `decoding_layer_infer`\n",
    "- `decoding_layer`\n",
    "- `seq2seq_model`\n",
    "\n",
    "### Input\n",
    "Implement the `model_inputs()` function to create TF Placeholders for the Neural Network. It should create the following placeholders:\n",
    "\n",
    "- Input text placeholder named \"input\" using the TF Placeholder name parameter with rank 2.\n",
    "- Targets placeholder with rank 2.\n",
    "- Learning rate placeholder with rank 0.\n",
    "- Keep probability placeholder named \"keep_prob\" using the TF Placeholder name parameter with rank 0.\n",
    "\n",
    "Return the placeholders in the following the tuple (Input, Targets, Learing Rate, Keep Probability)"
   ]
  },
  {
   "cell_type": "code",
   "execution_count": 7,
   "metadata": {
    "collapsed": false,
    "deletable": true,
    "editable": true
   },
   "outputs": [
    {
     "name": "stdout",
     "output_type": "stream",
     "text": [
      "Tests Passed\n"
     ]
    }
   ],
   "source": [
    "def model_inputs():\n",
    "    \"\"\"\n",
    "    Create TF Placeholders for input, targets, and learning rate.\n",
    "    :return: Tuple (input, targets, learning rate, keep probability)\n",
    "    \"\"\"\n",
    "    # TODO: Implement Function\n",
    "    inputs = tf.placeholder(tf.int32,[None, None], name='input')\n",
    "    targets = tf.placeholder(tf.int32, [None, None], name='targets')\n",
    "    learning_rate = tf.placeholder(tf.float32, name='learning_rate')\n",
    "    prob = tf.placeholder(tf.float32, name='keep_prob')\n",
    "    return inputs, targets, learning_rate, prob\n",
    "\n",
    "\"\"\"\n",
    "DON'T MODIFY ANYTHING IN THIS CELL THAT IS BELOW THIS LINE\n",
    "\"\"\"\n",
    "tests.test_model_inputs(model_inputs)"
   ]
  },
  {
   "cell_type": "markdown",
   "metadata": {
    "deletable": true,
    "editable": true
   },
   "source": [
    "### Process Decoding Input\n",
    "Implement `process_decoding_input` using TensorFlow to remove the last word id from each batch in `target_data` and concat the GO ID to the beginning of each batch."
   ]
  },
  {
   "cell_type": "code",
   "execution_count": 8,
   "metadata": {
    "collapsed": false,
    "deletable": true,
    "editable": true
   },
   "outputs": [
    {
     "name": "stdout",
     "output_type": "stream",
     "text": [
      "Tests Passed\n"
     ]
    }
   ],
   "source": [
    "def process_decoding_input(target_data, target_vocab_to_int, batch_size):\n",
    "    \"\"\"\n",
    "    Preprocess target data for dencoding\n",
    "    :param target_data: Target Placehoder\n",
    "    :param target_vocab_to_int: Dictionary to go from the target words to an id\n",
    "    :param batch_size: Batch Size\n",
    "    :return: Preprocessed target data\n",
    "    \"\"\"\n",
    "    # TODO: Implement Function\n",
    "    ending = tf.strided_slice(target_data, [0, 0], [batch_size, -1], [1, 1])\n",
    "    dec_input = tf.concat([tf.fill([batch_size, 1], target_vocab_to_int['<GO>']), ending], 1)\n",
    "    \n",
    "    return dec_input\n",
    "\n",
    "\"\"\"\n",
    "DON'T MODIFY ANYTHING IN THIS CELL THAT IS BELOW THIS LINE\n",
    "\"\"\"\n",
    "tests.test_process_decoding_input(process_decoding_input)"
   ]
  },
  {
   "cell_type": "markdown",
   "metadata": {
    "deletable": true,
    "editable": true
   },
   "source": [
    "### Encoding\n",
    "Implement `encoding_layer()` to create a Encoder RNN layer using [`tf.nn.dynamic_rnn()`](https://www.tensorflow.org/api_docs/python/tf/nn/dynamic_rnn)."
   ]
  },
  {
   "cell_type": "code",
   "execution_count": 9,
   "metadata": {
    "collapsed": false,
    "deletable": true,
    "editable": true
   },
   "outputs": [
    {
     "name": "stdout",
     "output_type": "stream",
     "text": [
      "Tests Passed\n"
     ]
    }
   ],
   "source": [
    "def encoding_layer(rnn_inputs, rnn_size, num_layers, keep_prob):\n",
    "    \"\"\"\n",
    "    Create encoding layer\n",
    "    :param rnn_inputs: Inputs for the RNN\n",
    "    :param rnn_size: RNN Size\n",
    "    :param num_layers: Number of layers\n",
    "    :param keep_prob: Dropout keep probability\n",
    "    :return: RNN state\n",
    "    \"\"\"\n",
    "    # TODO: Implement Function\n",
    "    lstm = tf.contrib.rnn.BasicLSTMCell(rnn_size)\n",
    "    drop = tf.contrib.rnn.DropoutWrapper(lstm, output_keep_prob=keep_prob)\n",
    "    cell = tf.contrib.rnn.MultiRNNCell([drop] * num_layers)    \n",
    "    _, enc_state = tf.nn.dynamic_rnn(cell, rnn_inputs, dtype=tf.float32)\n",
    "    return enc_state\n",
    "\n",
    "\"\"\"\n",
    "DON'T MODIFY ANYTHING IN THIS CELL THAT IS BELOW THIS LINE\n",
    "\"\"\"\n",
    "tests.test_encoding_layer(encoding_layer)"
   ]
  },
  {
   "cell_type": "markdown",
   "metadata": {
    "deletable": true,
    "editable": true
   },
   "source": [
    "### Decoding - Training\n",
    "Create training logits using [`tf.contrib.seq2seq.simple_decoder_fn_train()`](https://www.tensorflow.org/api_docs/python/tf/contrib/seq2seq/simple_decoder_fn_train) and [`tf.contrib.seq2seq.dynamic_rnn_decoder()`](https://www.tensorflow.org/api_docs/python/tf/contrib/seq2seq/dynamic_rnn_decoder).  Apply the `output_fn` to the [`tf.contrib.seq2seq.dynamic_rnn_decoder()`](https://www.tensorflow.org/api_docs/python/tf/contrib/seq2seq/dynamic_rnn_decoder) outputs."
   ]
  },
  {
   "cell_type": "code",
   "execution_count": 10,
   "metadata": {
    "collapsed": false,
    "deletable": true,
    "editable": true
   },
   "outputs": [
    {
     "name": "stdout",
     "output_type": "stream",
     "text": [
      "Tests Passed\n"
     ]
    }
   ],
   "source": [
    "def decoding_layer_train(encoder_state, dec_cell, dec_embed_input, sequence_length, decoding_scope,\n",
    "                         output_fn, keep_prob):\n",
    "    \"\"\"\n",
    "    Create a decoding layer for training\n",
    "    :param encoder_state: Encoder State\n",
    "    :param dec_cell: Decoder RNN Cell\n",
    "    :param dec_embed_input: Decoder embedded input\n",
    "    :param sequence_length: Sequence Length\n",
    "    :param decoding_scope: TenorFlow Variable Scope for decoding\n",
    "    :param output_fn: Function to apply the output layer\n",
    "    :param keep_prob: Dropout keep probability\n",
    "    :return: Train Logits\n",
    "    \"\"\"\n",
    "    # TODO: Implement Function\n",
    "    train_decoder_fn = tf.contrib.seq2seq.simple_decoder_fn_train(encoder_state)\n",
    "    train_pred, _, _ = tf.contrib.seq2seq.dynamic_rnn_decoder(\n",
    "        dec_cell, train_decoder_fn, dec_embed_input, sequence_length, scope=decoding_scope)\n",
    "    # Apply output function\n",
    "    train_logits =  output_fn(train_pred)\n",
    "    return train_logits\n",
    "\n",
    "\n",
    "\"\"\"\n",
    "DON'T MODIFY ANYTHING IN THIS CELL THAT IS BELOW THIS LINE\n",
    "\"\"\"\n",
    "tests.test_decoding_layer_train(decoding_layer_train)"
   ]
  },
  {
   "cell_type": "markdown",
   "metadata": {
    "deletable": true,
    "editable": true
   },
   "source": [
    "### Decoding - Inference\n",
    "Create inference logits using [`tf.contrib.seq2seq.simple_decoder_fn_inference()`](https://www.tensorflow.org/api_docs/python/tf/contrib/seq2seq/simple_decoder_fn_inference) and [`tf.contrib.seq2seq.dynamic_rnn_decoder()`](https://www.tensorflow.org/api_docs/python/tf/contrib/seq2seq/dynamic_rnn_decoder). "
   ]
  },
  {
   "cell_type": "code",
   "execution_count": 11,
   "metadata": {
    "collapsed": false,
    "deletable": true,
    "editable": true
   },
   "outputs": [
    {
     "name": "stdout",
     "output_type": "stream",
     "text": [
      "Tests Passed\n"
     ]
    }
   ],
   "source": [
    "def decoding_layer_infer(encoder_state, dec_cell, dec_embeddings, start_of_sequence_id, end_of_sequence_id,\n",
    "                         maximum_length, vocab_size, decoding_scope, output_fn, keep_prob):\n",
    "    \"\"\"\n",
    "    Create a decoding layer for inference\n",
    "    :param encoder_state: Encoder state\n",
    "    :param dec_cell: Decoder RNN Cell\n",
    "    :param dec_embeddings: Decoder embeddings\n",
    "    :param start_of_sequence_id: GO ID\n",
    "    :param end_of_sequence_id: EOS Id\n",
    "    :param maximum_length: The maximum allowed time steps to decode\n",
    "    :param vocab_size: Size of vocabulary\n",
    "    :param decoding_scope: TensorFlow Variable Scope for decoding\n",
    "    :param output_fn: Function to apply the output layer\n",
    "    :param keep_prob: Dropout keep probability\n",
    "    :return: Inference Logits\n",
    "    \"\"\"\n",
    "    # TODO: Implement Function\n",
    "    infer_decoder_fn = tf.contrib.seq2seq.simple_decoder_fn_inference(\n",
    "        output_fn, encoder_state, dec_embeddings, start_of_sequence_id, end_of_sequence_id, \n",
    "        maximum_length, vocab_size)\n",
    "   \n",
    "    inference_logits, _, _ = tf.contrib.seq2seq.dynamic_rnn_decoder(dec_cell, infer_decoder_fn, scope=decoding_scope)\n",
    "   \n",
    "    return inference_logits\n",
    "\n",
    "\n",
    "\"\"\"\n",
    "DON'T MODIFY ANYTHING IN THIS CELL THAT IS BELOW THIS LINE\n",
    "\"\"\"\n",
    "tests.test_decoding_layer_infer(decoding_layer_infer)"
   ]
  },
  {
   "cell_type": "markdown",
   "metadata": {
    "deletable": true,
    "editable": true
   },
   "source": [
    "### Build the Decoding Layer\n",
    "Implement `decoding_layer()` to create a Decoder RNN layer.\n",
    "\n",
    "- Create RNN cell for decoding using `rnn_size` and `num_layers`.\n",
    "- Create the output fuction using [`lambda`](https://docs.python.org/3/tutorial/controlflow.html#lambda-expressions) to transform it's input, logits, to class logits.\n",
    "- Use the your `decoding_layer_train(encoder_state, dec_cell, dec_embed_input, sequence_length, decoding_scope, output_fn, keep_prob)` function to get the training logits.\n",
    "- Use your `decoding_layer_infer(encoder_state, dec_cell, dec_embeddings, start_of_sequence_id, end_of_sequence_id, maximum_length, vocab_size, decoding_scope, output_fn, keep_prob)` function to get the inference logits.\n",
    "\n",
    "Note: You'll need to use [tf.variable_scope](https://www.tensorflow.org/api_docs/python/tf/variable_scope) to share variables between training and inference."
   ]
  },
  {
   "cell_type": "code",
   "execution_count": 12,
   "metadata": {
    "collapsed": false,
    "deletable": true,
    "editable": true
   },
   "outputs": [
    {
     "name": "stdout",
     "output_type": "stream",
     "text": [
      "Tests Passed\n"
     ]
    }
   ],
   "source": [
    "def decoding_layer(dec_embed_input, dec_embeddings, encoder_state, vocab_size, sequence_length, rnn_size,\n",
    "                   num_layers, target_vocab_to_int, keep_prob):\n",
    "    \"\"\"\n",
    "    Create decoding layer\n",
    "    :param dec_embed_input: Decoder embedded input\n",
    "    :param dec_embeddings: Decoder embeddings\n",
    "    :param encoder_state: The encoded state\n",
    "    :param vocab_size: Size of vocabulary\n",
    "    :param sequence_length: Sequence Length\n",
    "    :param rnn_size: RNN Size\n",
    "    :param num_layers: Number of layers\n",
    "    :param target_vocab_to_int: Dictionary to go from the target words to an id\n",
    "    :param keep_prob: Dropout keep probability\n",
    "    :return: Tuple of (Training Logits, Inference Logits)\n",
    "    \"\"\"\n",
    "    # TODO: Implement Function\n",
    "    \n",
    "    lstm = tf.contrib.rnn.BasicLSTMCell(rnn_size)\n",
    "    drop = tf.contrib.rnn.DropoutWrapper(lstm, output_keep_prob=keep_prob)\n",
    "    dec_cell = tf.contrib.rnn.MultiRNNCell([drop] * num_layers)\n",
    "    \n",
    "\n",
    "    with tf.variable_scope(\"decoding\") as decoding_scope:\n",
    "        output_fn = lambda x: tf.contrib.layers.fully_connected(x, vocab_size, None, scope=decoding_scope)\n",
    "    with tf.variable_scope(\"decoding\") as decoding_scope:     \n",
    "        train_logits = decoding_layer_train(encoder_state, dec_cell, dec_embed_input, sequence_length, decoding_scope,\n",
    "                                            output_fn, keep_prob)         \n",
    "    with tf.variable_scope(\"decoding\", reuse=True) as decoding_scope:    \n",
    "        infer_logits = decoding_layer_infer(encoder_state, dec_cell, dec_embeddings, target_vocab_to_int['<GO>'], target_vocab_to_int['<EOS>'],\n",
    "                                            sequence_length-1, vocab_size, decoding_scope, output_fn, keep_prob)\n",
    "    return train_logits, infer_logits\n",
    "\n",
    "\n",
    "\"\"\"\n",
    "DON'T MODIFY ANYTHING IN THIS CELL THAT IS BELOW THIS LINE\n",
    "\"\"\"\n",
    "tests.test_decoding_layer(decoding_layer)"
   ]
  },
  {
   "cell_type": "markdown",
   "metadata": {
    "deletable": true,
    "editable": true
   },
   "source": [
    "### Build the Neural Network\n",
    "Apply the functions you implemented above to:\n",
    "\n",
    "- Apply embedding to the input data for the encoder.\n",
    "- Encode the input using your `encoding_layer(rnn_inputs, rnn_size, num_layers, keep_prob)`.\n",
    "- Process target data using your `process_decoding_input(target_data, target_vocab_to_int, batch_size)` function.\n",
    "- Apply embedding to the target data for the decoder.\n",
    "- Decode the encoded input using your `decoding_layer(dec_embed_input, dec_embeddings, encoder_state, vocab_size, sequence_length, rnn_size, num_layers, target_vocab_to_int, keep_prob)`."
   ]
  },
  {
   "cell_type": "code",
   "execution_count": 13,
   "metadata": {
    "collapsed": false,
    "deletable": true,
    "editable": true
   },
   "outputs": [
    {
     "name": "stdout",
     "output_type": "stream",
     "text": [
      "Tests Passed\n"
     ]
    }
   ],
   "source": [
    "def seq2seq_model(input_data, target_data, keep_prob, batch_size, sequence_length, source_vocab_size, target_vocab_size,\n",
    "                  enc_embedding_size, dec_embedding_size, rnn_size, num_layers, target_vocab_to_int):\n",
    "    \"\"\"\n",
    "    Build the Sequence-to-Sequence part of the neural network\n",
    "    :param input_data: Input placeholder\n",
    "    :param target_data: Target placeholder\n",
    "    :param keep_prob: Dropout keep probability placeholder\n",
    "    :param batch_size: Batch Size\n",
    "    :param sequence_length: Sequence Length\n",
    "    :param source_vocab_size: Source vocabulary size\n",
    "    :param target_vocab_size: Target vocabulary size\n",
    "    :param enc_embedding_size: Decoder embedding size\n",
    "    :param dec_embedding_size: Encoder embedding size\n",
    "    :param rnn_size: RNN Size\n",
    "    :param num_layers: Number of layers\n",
    "    :param target_vocab_to_int: Dictionary to go from the target words to an id\n",
    "    :return: Tuple of (Training Logits, Inference Logits)\n",
    "    \"\"\"\n",
    "    # TODO: Implement Function\n",
    "    enc_embed_input = tf.contrib.layers.embed_sequence(input_data, source_vocab_size, enc_embedding_size)\n",
    "    enc_state = encoding_layer(enc_embed_input, rnn_size, num_layers, keep_prob)\n",
    "    dec_input = process_decoding_input(target_data, target_vocab_to_int, batch_size)\n",
    "    dec_embeddings = tf.Variable(tf.random_uniform([target_vocab_size, dec_embedding_size]))\n",
    "    dec_embed_input = tf.nn.embedding_lookup(dec_embeddings, dec_input)\n",
    "    train, infer = decoding_layer(dec_embed_input, dec_embeddings, enc_state, target_vocab_size, sequence_length, rnn_size,\n",
    "                   num_layers, target_vocab_to_int, keep_prob)\n",
    "    return train, infer\n",
    "\n",
    "\n",
    "\"\"\"\n",
    "DON'T MODIFY ANYTHING IN THIS CELL THAT IS BELOW THIS LINE\n",
    "\"\"\"\n",
    "tests.test_seq2seq_model(seq2seq_model)"
   ]
  },
  {
   "cell_type": "markdown",
   "metadata": {
    "deletable": true,
    "editable": true
   },
   "source": [
    "## Neural Network Training\n",
    "### Hyperparameters\n",
    "Tune the following parameters:\n",
    "\n",
    "- Set `epochs` to the number of epochs.\n",
    "- Set `batch_size` to the batch size.\n",
    "- Set `rnn_size` to the size of the RNNs.\n",
    "- Set `num_layers` to the number of layers.\n",
    "- Set `encoding_embedding_size` to the size of the embedding for the encoder.\n",
    "- Set `decoding_embedding_size` to the size of the embedding for the decoder.\n",
    "- Set `learning_rate` to the learning rate.\n",
    "- Set `keep_probability` to the Dropout keep probability"
   ]
  },
  {
   "cell_type": "code",
   "execution_count": 14,
   "metadata": {
    "collapsed": true,
    "deletable": true,
    "editable": true
   },
   "outputs": [],
   "source": [
    "# Number of Epochs\n",
    "epochs = 20\n",
    "# Batch Size\n",
    "batch_size = 1024\n",
    "# RNN Size\n",
    "rnn_size = 256\n",
    "# Number of Layers\n",
    "num_layers = 3\n",
    "# Embedding Size\n",
    "encoding_embedding_size = 25\n",
    "decoding_embedding_size = 25\n",
    "# Learning Rate\n",
    "learning_rate = 5e-3\n",
    "# Dropout Keep Probability\n",
    "keep_probability = 0.5"
   ]
  },
  {
   "cell_type": "markdown",
   "metadata": {
    "deletable": true,
    "editable": true
   },
   "source": [
    "### Build the Graph\n",
    "Build the graph using the neural network you implemented."
   ]
  },
  {
   "cell_type": "code",
   "execution_count": null,
   "metadata": {
    "collapsed": false,
    "deletable": true,
    "editable": true
   },
   "outputs": [],
   "source": [
    "\"\"\"\n",
    "DON'T MODIFY ANYTHING IN THIS CELL\n",
    "\"\"\"\n",
    "save_path = 'checkpoints/dev'\n",
    "(source_int_text, target_int_text), (source_vocab_to_int, target_vocab_to_int), _ = helper.load_preprocess()\n",
    "max_source_sentence_length = max([len(sentence) for sentence in source_int_text])\n",
    "\n",
    "train_graph = tf.Graph()\n",
    "with train_graph.as_default():\n",
    "    input_data, targets, lr, keep_prob = model_inputs()\n",
    "    sequence_length = tf.placeholder_with_default(max_source_sentence_length, None, name='sequence_length')\n",
    "    input_shape = tf.shape(input_data)\n",
    "    \n",
    "    train_logits, inference_logits = seq2seq_model(\n",
    "        tf.reverse(input_data, [-1]), targets, keep_prob, batch_size, sequence_length, len(source_vocab_to_int), len(target_vocab_to_int),\n",
    "        encoding_embedding_size, decoding_embedding_size, rnn_size, num_layers, target_vocab_to_int)\n",
    "\n",
    "    tf.identity(inference_logits, 'logits')\n",
    "    with tf.name_scope(\"optimization\"):\n",
    "        # Loss function\n",
    "        cost = tf.contrib.seq2seq.sequence_loss(\n",
    "            train_logits,\n",
    "            targets,\n",
    "            tf.ones([input_shape[0], sequence_length]))\n",
    "\n",
    "        # Optimizer\n",
    "        optimizer = tf.train.AdamOptimizer(lr)\n",
    "\n",
    "        # Gradient Clipping\n",
    "        gradients = optimizer.compute_gradients(cost)\n",
    "        capped_gradients = [(tf.clip_by_value(grad, -1., 1.), var) for grad, var in gradients if grad is not None]\n",
    "        train_op = optimizer.apply_gradients(capped_gradients)"
   ]
  },
  {
   "cell_type": "markdown",
   "metadata": {
    "deletable": true,
    "editable": true
   },
   "source": [
    "### Train\n",
    "Train the neural network on the preprocessed data. If you have a hard time getting a good loss, check the forms to see if anyone is having the same problem."
   ]
  },
  {
   "cell_type": "code",
   "execution_count": null,
   "metadata": {
    "collapsed": false,
    "deletable": true,
    "editable": true,
    "scrolled": true
   },
   "outputs": [
    {
     "name": "stdout",
     "output_type": "stream",
     "text": [
      "Epoch   0 Batch    0/134 - Train Accuracy:  0.267, Validation Accuracy:  0.310, Loss:  5.874\n",
      "Epoch   0 Batch   10/134 - Train Accuracy:  0.318, Validation Accuracy:  0.348, Loss:  3.376\n",
      "Epoch   0 Batch   20/134 - Train Accuracy:  0.382, Validation Accuracy:  0.387, Loss:  2.896\n",
      "Epoch   0 Batch   30/134 - Train Accuracy:  0.424, Validation Accuracy:  0.425, Loss:  2.588\n",
      "Epoch   0 Batch   40/134 - Train Accuracy:  0.437, Validation Accuracy:  0.462, Loss:  2.425\n",
      "Epoch   0 Batch   50/134 - Train Accuracy:  0.442, Validation Accuracy:  0.470, Loss:  2.297\n",
      "Epoch   0 Batch   60/134 - Train Accuracy:  0.461, Validation Accuracy:  0.487, Loss:  2.170\n",
      "Epoch   0 Batch   70/134 - Train Accuracy:  0.497, Validation Accuracy:  0.510, Loss:  2.041\n",
      "Epoch   0 Batch   80/134 - Train Accuracy:  0.478, Validation Accuracy:  0.507, Loss:  2.028\n",
      "Epoch   0 Batch   90/134 - Train Accuracy:  0.487, Validation Accuracy:  0.516, Loss:  1.964\n",
      "Epoch   0 Batch  100/134 - Train Accuracy:  0.423, Validation Accuracy:  0.459, Loss:  1.967\n",
      "Epoch   0 Batch  110/134 - Train Accuracy:  0.524, Validation Accuracy:  0.542, Loss:  1.806\n",
      "Epoch   0 Batch  120/134 - Train Accuracy:  0.536, Validation Accuracy:  0.554, Loss:  1.713\n",
      "Epoch   0 Batch  130/134 - Train Accuracy:  0.535, Validation Accuracy:  0.565, Loss:  1.631\n",
      "Epoch   1 Batch    0/134 - Train Accuracy:  0.540, Validation Accuracy:  0.566, Loss:  1.612\n",
      "Epoch   1 Batch   10/134 - Train Accuracy:  0.582, Validation Accuracy:  0.602, Loss:  1.519\n",
      "Epoch   1 Batch   20/134 - Train Accuracy:  0.597, Validation Accuracy:  0.600, Loss:  1.492\n",
      "Epoch   1 Batch   30/134 - Train Accuracy:  0.595, Validation Accuracy:  0.601, Loss:  1.416\n",
      "Epoch   1 Batch   40/134 - Train Accuracy:  0.618, Validation Accuracy:  0.629, Loss:  1.415\n",
      "Epoch   1 Batch   50/134 - Train Accuracy:  0.614, Validation Accuracy:  0.631, Loss:  1.372\n",
      "Epoch   1 Batch   60/134 - Train Accuracy:  0.627, Validation Accuracy:  0.638, Loss:  1.304\n",
      "Epoch   1 Batch   70/134 - Train Accuracy:  0.640, Validation Accuracy:  0.645, Loss:  1.258\n",
      "Epoch   1 Batch   80/134 - Train Accuracy:  0.602, Validation Accuracy:  0.626, Loss:  1.262\n",
      "Epoch   1 Batch   90/134 - Train Accuracy:  0.608, Validation Accuracy:  0.618, Loss:  1.197\n",
      "Epoch   1 Batch  100/134 - Train Accuracy:  0.610, Validation Accuracy:  0.629, Loss:  1.046\n",
      "Epoch   1 Batch  110/134 - Train Accuracy:  0.621, Validation Accuracy:  0.632, Loss:  0.903\n",
      "Epoch   1 Batch  120/134 - Train Accuracy:  0.626, Validation Accuracy:  0.642, Loss:  0.844\n",
      "Epoch   1 Batch  130/134 - Train Accuracy:  0.632, Validation Accuracy:  0.648, Loss:  0.775\n",
      "Epoch   2 Batch    0/134 - Train Accuracy:  0.627, Validation Accuracy:  0.648, Loss:  0.762\n",
      "Epoch   2 Batch   10/134 - Train Accuracy:  0.644, Validation Accuracy:  0.658, Loss:  0.719\n",
      "Epoch   2 Batch   20/134 - Train Accuracy:  0.665, Validation Accuracy:  0.659, Loss:  0.667\n",
      "Epoch   2 Batch   30/134 - Train Accuracy:  0.672, Validation Accuracy:  0.674, Loss:  0.638\n",
      "Epoch   2 Batch   40/134 - Train Accuracy:  0.674, Validation Accuracy:  0.684, Loss:  0.641\n",
      "Epoch   2 Batch   50/134 - Train Accuracy:  0.664, Validation Accuracy:  0.687, Loss:  0.623\n",
      "Epoch   2 Batch   60/134 - Train Accuracy:  0.676, Validation Accuracy:  0.686, Loss:  0.595\n",
      "Epoch   2 Batch   70/134 - Train Accuracy:  0.681, Validation Accuracy:  0.696, Loss:  0.582\n",
      "Epoch   2 Batch   80/134 - Train Accuracy:  0.680, Validation Accuracy:  0.699, Loss:  0.565\n",
      "Epoch   2 Batch   90/134 - Train Accuracy:  0.690, Validation Accuracy:  0.697, Loss:  0.556\n",
      "Epoch   2 Batch  100/134 - Train Accuracy:  0.683, Validation Accuracy:  0.704, Loss:  0.534\n",
      "Epoch   2 Batch  110/134 - Train Accuracy:  0.714, Validation Accuracy:  0.716, Loss:  0.513\n",
      "Epoch   2 Batch  120/134 - Train Accuracy:  0.702, Validation Accuracy:  0.714, Loss:  0.508\n",
      "Epoch   2 Batch  130/134 - Train Accuracy:  0.712, Validation Accuracy:  0.728, Loss:  0.484\n",
      "Epoch   3 Batch    0/134 - Train Accuracy:  0.706, Validation Accuracy:  0.722, Loss:  0.481\n",
      "Epoch   3 Batch   10/134 - Train Accuracy:  0.720, Validation Accuracy:  0.731, Loss:  0.467\n",
      "Epoch   3 Batch   20/134 - Train Accuracy:  0.736, Validation Accuracy:  0.737, Loss:  0.437\n",
      "Epoch   3 Batch   30/134 - Train Accuracy:  0.737, Validation Accuracy:  0.739, Loss:  0.419\n",
      "Epoch   3 Batch   40/134 - Train Accuracy:  0.736, Validation Accuracy:  0.739, Loss:  0.428\n",
      "Epoch   3 Batch   50/134 - Train Accuracy:  0.722, Validation Accuracy:  0.740, Loss:  0.419\n",
      "Epoch   3 Batch   60/134 - Train Accuracy:  0.733, Validation Accuracy:  0.740, Loss:  0.399\n",
      "Epoch   3 Batch   70/134 - Train Accuracy:  0.735, Validation Accuracy:  0.746, Loss:  0.396\n",
      "Epoch   3 Batch   80/134 - Train Accuracy:  0.745, Validation Accuracy:  0.754, Loss:  0.383\n",
      "Epoch   3 Batch   90/134 - Train Accuracy:  0.749, Validation Accuracy:  0.753, Loss:  0.377\n",
      "Epoch   3 Batch  100/134 - Train Accuracy:  0.749, Validation Accuracy:  0.763, Loss:  0.359\n",
      "Epoch   3 Batch  110/134 - Train Accuracy:  0.772, Validation Accuracy:  0.769, Loss:  0.352\n",
      "Epoch   3 Batch  120/134 - Train Accuracy:  0.761, Validation Accuracy:  0.771, Loss:  0.341\n",
      "Epoch   3 Batch  130/134 - Train Accuracy:  0.769, Validation Accuracy:  0.780, Loss:  0.333\n",
      "Epoch   4 Batch    0/134 - Train Accuracy:  0.770, Validation Accuracy:  0.776, Loss:  0.331\n",
      "Epoch   4 Batch   10/134 - Train Accuracy:  0.762, Validation Accuracy:  0.773, Loss:  0.332\n",
      "Epoch   4 Batch   20/134 - Train Accuracy:  0.781, Validation Accuracy:  0.775, Loss:  0.305\n",
      "Epoch   4 Batch   30/134 - Train Accuracy:  0.798, Validation Accuracy:  0.791, Loss:  0.289\n",
      "Epoch   4 Batch   40/134 - Train Accuracy:  0.796, Validation Accuracy:  0.790, Loss:  0.290\n",
      "Epoch   4 Batch   50/134 - Train Accuracy:  0.783, Validation Accuracy:  0.788, Loss:  0.277\n",
      "Epoch   4 Batch   60/134 - Train Accuracy:  0.794, Validation Accuracy:  0.802, Loss:  0.270\n",
      "Epoch   4 Batch   70/134 - Train Accuracy:  0.803, Validation Accuracy:  0.802, Loss:  0.262\n",
      "Epoch   4 Batch   80/134 - Train Accuracy:  0.815, Validation Accuracy:  0.816, Loss:  0.254\n",
      "Epoch   4 Batch   90/134 - Train Accuracy:  0.807, Validation Accuracy:  0.809, Loss:  0.252\n",
      "Epoch   4 Batch  100/134 - Train Accuracy:  0.811, Validation Accuracy:  0.814, Loss:  0.241\n",
      "Epoch   4 Batch  110/134 - Train Accuracy:  0.829, Validation Accuracy:  0.815, Loss:  0.225\n",
      "Epoch   4 Batch  120/134 - Train Accuracy:  0.816, Validation Accuracy:  0.822, Loss:  0.231\n",
      "Epoch   4 Batch  130/134 - Train Accuracy:  0.820, Validation Accuracy:  0.823, Loss:  0.221\n",
      "Epoch   5 Batch    0/134 - Train Accuracy:  0.821, Validation Accuracy:  0.825, Loss:  0.216\n",
      "Epoch   5 Batch   10/134 - Train Accuracy:  0.821, Validation Accuracy:  0.828, Loss:  0.218\n",
      "Epoch   5 Batch   20/134 - Train Accuracy:  0.839, Validation Accuracy:  0.834, Loss:  0.196\n",
      "Epoch   5 Batch   30/134 - Train Accuracy:  0.849, Validation Accuracy:  0.842, Loss:  0.194\n",
      "Epoch   5 Batch   40/134 - Train Accuracy:  0.844, Validation Accuracy:  0.843, Loss:  0.198\n",
      "Epoch   5 Batch   50/134 - Train Accuracy:  0.842, Validation Accuracy:  0.854, Loss:  0.190\n",
      "Epoch   5 Batch   60/134 - Train Accuracy:  0.844, Validation Accuracy:  0.857, Loss:  0.187\n",
      "Epoch   5 Batch   70/134 - Train Accuracy:  0.846, Validation Accuracy:  0.856, Loss:  0.179\n",
      "Epoch   5 Batch   80/134 - Train Accuracy:  0.849, Validation Accuracy:  0.857, Loss:  0.173\n",
      "Epoch   5 Batch   90/134 - Train Accuracy:  0.846, Validation Accuracy:  0.863, Loss:  0.183\n",
      "Epoch   5 Batch  100/134 - Train Accuracy:  0.851, Validation Accuracy:  0.858, Loss:  0.174\n",
      "Epoch   5 Batch  110/134 - Train Accuracy:  0.855, Validation Accuracy:  0.862, Loss:  0.167\n",
      "Epoch   5 Batch  120/134 - Train Accuracy:  0.857, Validation Accuracy:  0.870, Loss:  0.173\n",
      "Epoch   5 Batch  130/134 - Train Accuracy:  0.864, Validation Accuracy:  0.872, Loss:  0.152\n",
      "Epoch   6 Batch    0/134 - Train Accuracy:  0.864, Validation Accuracy:  0.876, Loss:  0.157\n",
      "Epoch   6 Batch   10/134 - Train Accuracy:  0.870, Validation Accuracy:  0.882, Loss:  0.158\n",
      "Epoch   6 Batch   20/134 - Train Accuracy:  0.880, Validation Accuracy:  0.889, Loss:  0.144\n",
      "Epoch   6 Batch   30/134 - Train Accuracy:  0.886, Validation Accuracy:  0.892, Loss:  0.146\n",
      "Epoch   6 Batch   40/134 - Train Accuracy:  0.885, Validation Accuracy:  0.889, Loss:  0.140\n",
      "Epoch   6 Batch   50/134 - Train Accuracy:  0.878, Validation Accuracy:  0.890, Loss:  0.139\n",
      "Epoch   6 Batch   60/134 - Train Accuracy:  0.887, Validation Accuracy:  0.891, Loss:  0.137\n",
      "Epoch   6 Batch   70/134 - Train Accuracy:  0.890, Validation Accuracy:  0.901, Loss:  0.136\n",
      "Epoch   6 Batch   80/134 - Train Accuracy:  0.893, Validation Accuracy:  0.894, Loss:  0.136\n",
      "Epoch   6 Batch   90/134 - Train Accuracy:  0.886, Validation Accuracy:  0.896, Loss:  0.135\n",
      "Epoch   6 Batch  100/134 - Train Accuracy:  0.883, Validation Accuracy:  0.897, Loss:  0.132\n",
      "Epoch   6 Batch  110/134 - Train Accuracy:  0.898, Validation Accuracy:  0.896, Loss:  0.127\n",
      "Epoch   6 Batch  120/134 - Train Accuracy:  0.898, Validation Accuracy:  0.904, Loss:  0.129\n",
      "Epoch   6 Batch  130/134 - Train Accuracy:  0.902, Validation Accuracy:  0.905, Loss:  0.121\n",
      "Epoch   7 Batch    0/134 - Train Accuracy:  0.906, Validation Accuracy:  0.909, Loss:  0.120\n",
      "Epoch   7 Batch   10/134 - Train Accuracy:  0.896, Validation Accuracy:  0.905, Loss:  0.117\n",
      "Epoch   7 Batch   20/134 - Train Accuracy:  0.903, Validation Accuracy:  0.907, Loss:  0.109\n",
      "Epoch   7 Batch   30/134 - Train Accuracy:  0.905, Validation Accuracy:  0.914, Loss:  0.109\n",
      "Epoch   7 Batch   40/134 - Train Accuracy:  0.910, Validation Accuracy:  0.914, Loss:  0.108\n",
      "Epoch   7 Batch   50/134 - Train Accuracy:  0.904, Validation Accuracy:  0.916, Loss:  0.107\n",
      "Epoch   7 Batch   60/134 - Train Accuracy:  0.908, Validation Accuracy:  0.913, Loss:  0.101\n",
      "Epoch   7 Batch   70/134 - Train Accuracy:  0.912, Validation Accuracy:  0.927, Loss:  0.102\n",
      "Epoch   7 Batch   80/134 - Train Accuracy:  0.921, Validation Accuracy:  0.922, Loss:  0.096\n",
      "Epoch   7 Batch   90/134 - Train Accuracy:  0.902, Validation Accuracy:  0.916, Loss:  0.103\n",
      "Epoch   7 Batch  100/134 - Train Accuracy:  0.913, Validation Accuracy:  0.925, Loss:  0.096\n",
      "Epoch   7 Batch  110/134 - Train Accuracy:  0.921, Validation Accuracy:  0.926, Loss:  0.089\n",
      "Epoch   7 Batch  120/134 - Train Accuracy:  0.918, Validation Accuracy:  0.919, Loss:  0.097\n",
      "Epoch   7 Batch  130/134 - Train Accuracy:  0.919, Validation Accuracy:  0.926, Loss:  0.083\n",
      "Epoch   8 Batch    0/134 - Train Accuracy:  0.926, Validation Accuracy:  0.930, Loss:  0.083\n",
      "Epoch   8 Batch   10/134 - Train Accuracy:  0.920, Validation Accuracy:  0.932, Loss:  0.087\n",
      "Epoch   8 Batch   20/134 - Train Accuracy:  0.923, Validation Accuracy:  0.929, Loss:  0.076\n",
      "Epoch   8 Batch   30/134 - Train Accuracy:  0.924, Validation Accuracy:  0.933, Loss:  0.079\n",
      "Epoch   8 Batch   40/134 - Train Accuracy:  0.929, Validation Accuracy:  0.935, Loss:  0.078\n",
      "Epoch   8 Batch   50/134 - Train Accuracy:  0.914, Validation Accuracy:  0.927, Loss:  0.079\n",
      "Epoch   8 Batch   60/134 - Train Accuracy:  0.929, Validation Accuracy:  0.933, Loss:  0.075\n",
      "Epoch   8 Batch   70/134 - Train Accuracy:  0.926, Validation Accuracy:  0.936, Loss:  0.075\n",
      "Epoch   8 Batch   80/134 - Train Accuracy:  0.931, Validation Accuracy:  0.930, Loss:  0.073\n",
      "Epoch   8 Batch   90/134 - Train Accuracy:  0.919, Validation Accuracy:  0.933, Loss:  0.079\n",
      "Epoch   8 Batch  100/134 - Train Accuracy:  0.930, Validation Accuracy:  0.935, Loss:  0.075\n",
      "Epoch   8 Batch  110/134 - Train Accuracy:  0.932, Validation Accuracy:  0.937, Loss:  0.070\n",
      "Epoch   8 Batch  120/134 - Train Accuracy:  0.930, Validation Accuracy:  0.936, Loss:  0.079\n",
      "Epoch   8 Batch  130/134 - Train Accuracy:  0.926, Validation Accuracy:  0.931, Loss:  0.068\n",
      "Epoch   9 Batch    0/134 - Train Accuracy:  0.937, Validation Accuracy:  0.936, Loss:  0.067\n",
      "Epoch   9 Batch   10/134 - Train Accuracy:  0.931, Validation Accuracy:  0.938, Loss:  0.067\n",
      "Epoch   9 Batch   20/134 - Train Accuracy:  0.932, Validation Accuracy:  0.938, Loss:  0.063\n",
      "Epoch   9 Batch   30/134 - Train Accuracy:  0.930, Validation Accuracy:  0.938, Loss:  0.067\n",
      "Epoch   9 Batch   40/134 - Train Accuracy:  0.939, Validation Accuracy:  0.944, Loss:  0.065\n",
      "Epoch   9 Batch   50/134 - Train Accuracy:  0.922, Validation Accuracy:  0.943, Loss:  0.068\n",
      "Epoch   9 Batch   60/134 - Train Accuracy:  0.932, Validation Accuracy:  0.940, Loss:  0.062\n",
      "Epoch   9 Batch   70/134 - Train Accuracy:  0.931, Validation Accuracy:  0.942, Loss:  0.060\n",
      "Epoch   9 Batch   80/134 - Train Accuracy:  0.935, Validation Accuracy:  0.938, Loss:  0.061\n",
      "Epoch   9 Batch   90/134 - Train Accuracy:  0.933, Validation Accuracy:  0.942, Loss:  0.064\n",
      "Epoch   9 Batch  100/134 - Train Accuracy:  0.941, Validation Accuracy:  0.945, Loss:  0.060\n",
      "Epoch   9 Batch  110/134 - Train Accuracy:  0.940, Validation Accuracy:  0.946, Loss:  0.056\n",
      "Epoch   9 Batch  120/134 - Train Accuracy:  0.937, Validation Accuracy:  0.942, Loss:  0.063\n",
      "Epoch   9 Batch  130/134 - Train Accuracy:  0.940, Validation Accuracy:  0.949, Loss:  0.060\n",
      "Epoch  10 Batch    0/134 - Train Accuracy:  0.935, Validation Accuracy:  0.940, Loss:  0.073\n",
      "Epoch  10 Batch   10/134 - Train Accuracy:  0.937, Validation Accuracy:  0.947, Loss:  0.065\n",
      "Epoch  10 Batch   20/134 - Train Accuracy:  0.940, Validation Accuracy:  0.948, Loss:  0.057\n",
      "Epoch  10 Batch   30/134 - Train Accuracy:  0.935, Validation Accuracy:  0.952, Loss:  0.062\n",
      "Epoch  10 Batch   40/134 - Train Accuracy:  0.935, Validation Accuracy:  0.946, Loss:  0.056\n",
      "Epoch  10 Batch   50/134 - Train Accuracy:  0.934, Validation Accuracy:  0.944, Loss:  0.059\n",
      "Epoch  10 Batch   60/134 - Train Accuracy:  0.937, Validation Accuracy:  0.945, Loss:  0.055\n",
      "Epoch  10 Batch   70/134 - Train Accuracy:  0.938, Validation Accuracy:  0.947, Loss:  0.056\n",
      "Epoch  10 Batch   80/134 - Train Accuracy:  0.944, Validation Accuracy:  0.948, Loss:  0.050\n",
      "Epoch  10 Batch   90/134 - Train Accuracy:  0.939, Validation Accuracy:  0.943, Loss:  0.061\n",
      "Epoch  10 Batch  100/134 - Train Accuracy:  0.940, Validation Accuracy:  0.951, Loss:  0.057\n",
      "Epoch  10 Batch  110/134 - Train Accuracy:  0.945, Validation Accuracy:  0.947, Loss:  0.055\n",
      "Epoch  10 Batch  120/134 - Train Accuracy:  0.936, Validation Accuracy:  0.953, Loss:  0.056\n",
      "Epoch  10 Batch  130/134 - Train Accuracy:  0.947, Validation Accuracy:  0.951, Loss:  0.053\n",
      "Epoch  11 Batch    0/134 - Train Accuracy:  0.936, Validation Accuracy:  0.950, Loss:  0.049\n",
      "Epoch  11 Batch   10/134 - Train Accuracy:  0.941, Validation Accuracy:  0.951, Loss:  0.049\n",
      "Epoch  11 Batch   20/134 - Train Accuracy:  0.944, Validation Accuracy:  0.957, Loss:  0.048\n",
      "Epoch  11 Batch   30/134 - Train Accuracy:  0.944, Validation Accuracy:  0.953, Loss:  0.052\n",
      "Epoch  11 Batch   40/134 - Train Accuracy:  0.944, Validation Accuracy:  0.946, Loss:  0.046\n",
      "Epoch  11 Batch   50/134 - Train Accuracy:  0.940, Validation Accuracy:  0.949, Loss:  0.049\n",
      "Epoch  11 Batch   60/134 - Train Accuracy:  0.941, Validation Accuracy:  0.955, Loss:  0.045\n",
      "Epoch  11 Batch   70/134 - Train Accuracy:  0.946, Validation Accuracy:  0.952, Loss:  0.049\n",
      "Epoch  11 Batch   80/134 - Train Accuracy:  0.949, Validation Accuracy:  0.955, Loss:  0.044\n",
      "Epoch  11 Batch   90/134 - Train Accuracy:  0.941, Validation Accuracy:  0.953, Loss:  0.048\n",
      "Epoch  11 Batch  100/134 - Train Accuracy:  0.948, Validation Accuracy:  0.956, Loss:  0.047\n",
      "Epoch  11 Batch  110/134 - Train Accuracy:  0.948, Validation Accuracy:  0.952, Loss:  0.042\n",
      "Epoch  11 Batch  120/134 - Train Accuracy:  0.942, Validation Accuracy:  0.955, Loss:  0.049\n",
      "Epoch  11 Batch  130/134 - Train Accuracy:  0.951, Validation Accuracy:  0.956, Loss:  0.044\n",
      "Epoch  12 Batch    0/134 - Train Accuracy:  0.945, Validation Accuracy:  0.955, Loss:  0.044\n",
      "Epoch  12 Batch   10/134 - Train Accuracy:  0.945, Validation Accuracy:  0.953, Loss:  0.047\n",
      "Epoch  12 Batch   20/134 - Train Accuracy:  0.945, Validation Accuracy:  0.952, Loss:  0.043\n",
      "Epoch  12 Batch   30/134 - Train Accuracy:  0.943, Validation Accuracy:  0.958, Loss:  0.045\n",
      "Epoch  12 Batch   40/134 - Train Accuracy:  0.948, Validation Accuracy:  0.957, Loss:  0.045\n",
      "Epoch  12 Batch   50/134 - Train Accuracy:  0.945, Validation Accuracy:  0.953, Loss:  0.047\n",
      "Epoch  12 Batch   60/134 - Train Accuracy:  0.947, Validation Accuracy:  0.956, Loss:  0.041\n",
      "Epoch  12 Batch   70/134 - Train Accuracy:  0.952, Validation Accuracy:  0.955, Loss:  0.045\n",
      "Epoch  12 Batch   80/134 - Train Accuracy:  0.954, Validation Accuracy:  0.959, Loss:  0.039\n",
      "Epoch  12 Batch   90/134 - Train Accuracy:  0.947, Validation Accuracy:  0.961, Loss:  0.047\n",
      "Epoch  12 Batch  100/134 - Train Accuracy:  0.952, Validation Accuracy:  0.957, Loss:  0.041\n",
      "Epoch  12 Batch  110/134 - Train Accuracy:  0.954, Validation Accuracy:  0.959, Loss:  0.039\n",
      "Epoch  12 Batch  120/134 - Train Accuracy:  0.945, Validation Accuracy:  0.957, Loss:  0.047\n",
      "Epoch  12 Batch  130/134 - Train Accuracy:  0.951, Validation Accuracy:  0.958, Loss:  0.041\n",
      "Epoch  13 Batch    0/134 - Train Accuracy:  0.956, Validation Accuracy:  0.961, Loss:  0.040\n",
      "Epoch  13 Batch   10/134 - Train Accuracy:  0.948, Validation Accuracy:  0.955, Loss:  0.042\n",
      "Epoch  13 Batch   20/134 - Train Accuracy:  0.952, Validation Accuracy:  0.959, Loss:  0.037\n",
      "Epoch  13 Batch   30/134 - Train Accuracy:  0.951, Validation Accuracy:  0.959, Loss:  0.041\n",
      "Epoch  13 Batch   40/134 - Train Accuracy:  0.956, Validation Accuracy:  0.959, Loss:  0.036\n",
      "Epoch  13 Batch   50/134 - Train Accuracy:  0.952, Validation Accuracy:  0.959, Loss:  0.041\n",
      "Epoch  13 Batch   60/134 - Train Accuracy:  0.954, Validation Accuracy:  0.960, Loss:  0.040\n",
      "Epoch  13 Batch   70/134 - Train Accuracy:  0.957, Validation Accuracy:  0.962, Loss:  0.040\n",
      "Epoch  13 Batch   80/134 - Train Accuracy:  0.957, Validation Accuracy:  0.962, Loss:  0.035\n",
      "Epoch  13 Batch   90/134 - Train Accuracy:  0.952, Validation Accuracy:  0.962, Loss:  0.041\n",
      "Epoch  15 Batch   20/134 - Train Accuracy:  0.956, Validation Accuracy:  0.966, Loss:  0.035\n",
      "Epoch  15 Batch   30/134 - Train Accuracy:  0.951, Validation Accuracy:  0.964, Loss:  0.036\n",
      "Epoch  15 Batch   40/134 - Train Accuracy:  0.960, Validation Accuracy:  0.960, Loss:  0.032\n",
      "Epoch  15 Batch   50/134 - Train Accuracy:  0.955, Validation Accuracy:  0.963, Loss:  0.036\n",
      "Epoch  15 Batch   60/134 - Train Accuracy:  0.957, Validation Accuracy:  0.963, Loss:  0.031\n",
      "Epoch  15 Batch   70/134 - Train Accuracy:  0.959, Validation Accuracy:  0.964, Loss:  0.035\n",
      "Epoch  15 Batch   80/134 - Train Accuracy:  0.962, Validation Accuracy:  0.966, Loss:  0.030\n",
      "Epoch  15 Batch   90/134 - Train Accuracy:  0.955, Validation Accuracy:  0.962, Loss:  0.034\n",
      "Epoch  15 Batch  100/134 - Train Accuracy:  0.961, Validation Accuracy:  0.964, Loss:  0.035\n",
      "Epoch  15 Batch  110/134 - Train Accuracy:  0.960, Validation Accuracy:  0.966, Loss:  0.028\n",
      "Epoch  15 Batch  120/134 - Train Accuracy:  0.956, Validation Accuracy:  0.966, Loss:  0.032\n",
      "Epoch  15 Batch  130/134 - Train Accuracy:  0.959, Validation Accuracy:  0.963, Loss:  0.031\n",
      "Epoch  16 Batch    0/134 - Train Accuracy:  0.960, Validation Accuracy:  0.963, Loss:  0.031\n",
      "Epoch  16 Batch   10/134 - Train Accuracy:  0.956, Validation Accuracy:  0.961, Loss:  0.031\n",
      "Epoch  16 Batch   20/134 - Train Accuracy:  0.962, Validation Accuracy:  0.962, Loss:  0.030\n",
      "Epoch  16 Batch   30/134 - Train Accuracy:  0.953, Validation Accuracy:  0.964, Loss:  0.034\n",
      "Epoch  16 Batch   40/134 - Train Accuracy:  0.963, Validation Accuracy:  0.965, Loss:  0.030\n",
      "Epoch  16 Batch   50/134 - Train Accuracy:  0.958, Validation Accuracy:  0.962, Loss:  0.034\n",
      "Epoch  16 Batch   60/134 - Train Accuracy:  0.957, Validation Accuracy:  0.962, Loss:  0.028\n",
      "Epoch  16 Batch   70/134 - Train Accuracy:  0.962, Validation Accuracy:  0.967, Loss:  0.033\n",
      "Epoch  16 Batch   80/134 - Train Accuracy:  0.966, Validation Accuracy:  0.966, Loss:  0.027\n",
      "Epoch  16 Batch   90/134 - Train Accuracy:  0.956, Validation Accuracy:  0.964, Loss:  0.036\n",
      "Epoch  16 Batch  100/134 - Train Accuracy:  0.961, Validation Accuracy:  0.965, Loss:  0.033\n",
      "Epoch  16 Batch  110/134 - Train Accuracy:  0.965, Validation Accuracy:  0.965, Loss:  0.029\n",
      "Epoch  16 Batch  120/134 - Train Accuracy:  0.956, Validation Accuracy:  0.965, Loss:  0.033\n",
      "Epoch  16 Batch  130/134 - Train Accuracy:  0.961, Validation Accuracy:  0.969, Loss:  0.029\n",
      "Epoch  17 Batch    0/134 - Train Accuracy:  0.964, Validation Accuracy:  0.968, Loss:  0.029\n",
      "Epoch  17 Batch   10/134 - Train Accuracy:  0.957, Validation Accuracy:  0.960, Loss:  0.029\n",
      "Epoch  17 Batch   20/134 - Train Accuracy:  0.963, Validation Accuracy:  0.967, Loss:  0.029\n",
      "Epoch  17 Batch   30/134 - Train Accuracy:  0.955, Validation Accuracy:  0.965, Loss:  0.032\n",
      "Epoch  17 Batch   40/134 - Train Accuracy:  0.965, Validation Accuracy:  0.965, Loss:  0.030\n",
      "Epoch  17 Batch   50/134 - Train Accuracy:  0.960, Validation Accuracy:  0.965, Loss:  0.029\n",
      "Epoch  17 Batch   60/134 - Train Accuracy:  0.962, Validation Accuracy:  0.965, Loss:  0.030\n",
      "Epoch  17 Batch   70/134 - Train Accuracy:  0.963, Validation Accuracy:  0.966, Loss:  0.029\n",
      "Epoch  17 Batch   80/134 - Train Accuracy:  0.968, Validation Accuracy:  0.966, Loss:  0.027\n",
      "Epoch  17 Batch   90/134 - Train Accuracy:  0.960, Validation Accuracy:  0.967, Loss:  0.032\n",
      "Epoch  17 Batch  100/134 - Train Accuracy:  0.961, Validation Accuracy:  0.965, Loss:  0.030\n",
      "Epoch  17 Batch  110/134 - Train Accuracy:  0.965, Validation Accuracy:  0.968, Loss:  0.027\n",
      "Epoch  17 Batch  120/134 - Train Accuracy:  0.958, Validation Accuracy:  0.964, Loss:  0.032\n",
      "Epoch  17 Batch  130/134 - Train Accuracy:  0.964, Validation Accuracy:  0.967, Loss:  0.029\n",
      "Epoch  18 Batch    0/134 - Train Accuracy:  0.965, Validation Accuracy:  0.970, Loss:  0.025\n",
      "Epoch  18 Batch   10/134 - Train Accuracy:  0.964, Validation Accuracy:  0.967, Loss:  0.027\n",
      "Epoch  18 Batch   20/134 - Train Accuracy:  0.961, Validation Accuracy:  0.968, Loss:  0.028\n",
      "Epoch  18 Batch   30/134 - Train Accuracy:  0.958, Validation Accuracy:  0.965, Loss:  0.030\n",
      "Epoch  18 Batch   40/134 - Train Accuracy:  0.966, Validation Accuracy:  0.966, Loss:  0.026\n",
      "Epoch  18 Batch   50/134 - Train Accuracy:  0.962, Validation Accuracy:  0.965, Loss:  0.029\n",
      "Epoch  18 Batch   60/134 - Train Accuracy:  0.965, Validation Accuracy:  0.968, Loss:  0.025\n",
      "Epoch  18 Batch   70/134 - Train Accuracy:  0.964, Validation Accuracy:  0.968, Loss:  0.028\n",
      "Epoch  18 Batch   80/134 - Train Accuracy:  0.967, Validation Accuracy:  0.970, Loss:  0.027\n",
      "Epoch  18 Batch   90/134 - Train Accuracy:  0.961, Validation Accuracy:  0.966, Loss:  0.031\n",
      "Epoch  18 Batch  100/134 - Train Accuracy:  0.965, Validation Accuracy:  0.970, Loss:  0.032\n",
      "Epoch  18 Batch  110/134 - Train Accuracy:  0.964, Validation Accuracy:  0.969, Loss:  0.026\n",
      "Epoch  18 Batch  120/134 - Train Accuracy:  0.961, Validation Accuracy:  0.968, Loss:  0.027\n",
      "Epoch  18 Batch  130/134 - Train Accuracy:  0.964, Validation Accuracy:  0.968, Loss:  0.026\n",
      "Epoch  19 Batch    0/134 - Train Accuracy:  0.965, Validation Accuracy:  0.967, Loss:  0.026\n",
      "Epoch  19 Batch   10/134 - Train Accuracy:  0.957, Validation Accuracy:  0.967, Loss:  0.030\n",
      "Epoch  19 Batch   20/134 - Train Accuracy:  0.966, Validation Accuracy:  0.967, Loss:  0.026\n",
      "Epoch  19 Batch   30/134 - Train Accuracy:  0.958, Validation Accuracy:  0.966, Loss:  0.030\n",
      "Epoch  19 Batch   40/134 - Train Accuracy:  0.967, Validation Accuracy:  0.968, Loss:  0.026\n",
      "Epoch  19 Batch   50/134 - Train Accuracy:  0.960, Validation Accuracy:  0.969, Loss:  0.033\n",
      "Epoch  19 Batch   60/134 - Train Accuracy:  0.962, Validation Accuracy:  0.966, Loss:  0.027\n",
      "Epoch  19 Batch   70/134 - Train Accuracy:  0.965, Validation Accuracy:  0.968, Loss:  0.030\n",
      "Epoch  19 Batch   80/134 - Train Accuracy:  0.967, Validation Accuracy:  0.968, Loss:  0.024\n",
      "Epoch  19 Batch   90/134 - Train Accuracy:  0.962, Validation Accuracy:  0.967, Loss:  0.027\n",
      "Epoch  19 Batch  100/134 - Train Accuracy:  0.965, Validation Accuracy:  0.971, Loss:  0.027\n",
      "Epoch  19 Batch  110/134 - Train Accuracy:  0.964, Validation Accuracy:  0.970, Loss:  0.023\n",
      "Epoch  19 Batch  120/134 - Train Accuracy:  0.962, Validation Accuracy:  0.972, Loss:  0.029\n",
      "Epoch  19 Batch  130/134 - Train Accuracy:  0.966, Validation Accuracy:  0.969, Loss:  0.024\n",
      "Model Trained and Saved\n"
     ]
    }
   ],
   "source": [
    "\"\"\"\n",
    "DON'T MODIFY ANYTHING IN THIS CELL\n",
    "\"\"\"\n",
    "import time\n",
    "\n",
    "def get_accuracy(target, logits):\n",
    "    \"\"\"\n",
    "    Calculate accuracy\n",
    "    \"\"\"\n",
    "    max_seq = max(target.shape[1], logits.shape[1])\n",
    "    if max_seq - target.shape[1]:\n",
    "        target = np.pad(\n",
    "            target,\n",
    "            [(0,0),(0,max_seq - target.shape[1])],\n",
    "            'constant')\n",
    "    if max_seq - logits.shape[1]:\n",
    "        logits = np.pad(\n",
    "            logits,\n",
    "            [(0,0),(0,max_seq - logits.shape[1]), (0,0)],\n",
    "            'constant')\n",
    "\n",
    "    return np.mean(np.equal(target, np.argmax(logits, 2)))\n",
    "\n",
    "train_source = source_int_text[batch_size:]\n",
    "train_target = target_int_text[batch_size:]\n",
    "\n",
    "valid_source = helper.pad_sentence_batch(source_int_text[:batch_size])\n",
    "valid_target = helper.pad_sentence_batch(target_int_text[:batch_size])\n",
    "\n",
    "with tf.Session(graph=train_graph) as sess:\n",
    "    sess.run(tf.global_variables_initializer())\n",
    "\n",
    "    for epoch_i in range(epochs):\n",
    "        for batch_i, (source_batch, target_batch) in enumerate(\n",
    "                helper.batch_data(train_source, train_target, batch_size)):\n",
    "            start_time = time.time()\n",
    "            \n",
    "            _, loss = sess.run(\n",
    "                [train_op, cost],\n",
    "                {input_data: source_batch,\n",
    "                 targets: target_batch,\n",
    "                 lr: learning_rate,\n",
    "                 sequence_length: target_batch.shape[1],\n",
    "                 keep_prob: keep_probability})\n",
    "            \n",
    "            batch_train_logits = sess.run(\n",
    "                inference_logits,\n",
    "                {input_data: source_batch, keep_prob: 1.0})\n",
    "            batch_valid_logits = sess.run(\n",
    "                inference_logits,\n",
    "                {input_data: valid_source, keep_prob: 1.0})\n",
    "                \n",
    "            train_acc = get_accuracy(target_batch, batch_train_logits)\n",
    "            valid_acc = get_accuracy(np.array(valid_target), batch_valid_logits)\n",
    "            end_time = time.time()\n",
    "            if(batch_i%10 == 0):\n",
    "                print('Epoch {:>3} Batch {:>4}/{} - Train Accuracy: {:>6.3f}, Validation Accuracy: {:>6.3f}, Loss: {:>6.3f}'\n",
    "                  .format(epoch_i, batch_i, len(source_int_text) // batch_size, train_acc, valid_acc, loss))\n",
    "\n",
    "    # Save Model\n",
    "    saver = tf.train.Saver()\n",
    "    saver.save(sess, save_path)\n",
    "    print('Model Trained and Saved')"
   ]
  },
  {
   "cell_type": "markdown",
   "metadata": {
    "deletable": true,
    "editable": true
   },
   "source": [
    "### Save Parameters\n",
    "Save the `batch_size` and `save_path` parameters for inference."
   ]
  },
  {
   "cell_type": "code",
   "execution_count": 17,
   "metadata": {
    "collapsed": false,
    "deletable": true,
    "editable": true
   },
   "outputs": [],
   "source": [
    "\"\"\"\n",
    "DON'T MODIFY ANYTHING IN THIS CELL\n",
    "\"\"\"\n",
    "# Save parameters for checkpoint\n",
    "helper.save_params(save_path)"
   ]
  },
  {
   "cell_type": "markdown",
   "metadata": {
    "deletable": true,
    "editable": true
   },
   "source": [
    "# Checkpoint"
   ]
  },
  {
   "cell_type": "code",
   "execution_count": 18,
   "metadata": {
    "collapsed": false,
    "deletable": true,
    "editable": true
   },
   "outputs": [],
   "source": [
    "\"\"\"\n",
    "DON'T MODIFY ANYTHING IN THIS CELL\n",
    "\"\"\"\n",
    "import tensorflow as tf\n",
    "import numpy as np\n",
    "import helper\n",
    "import problem_unittests as tests\n",
    "\n",
    "_, (source_vocab_to_int, target_vocab_to_int), (source_int_to_vocab, target_int_to_vocab) = helper.load_preprocess()\n",
    "load_path = helper.load_params()"
   ]
  },
  {
   "cell_type": "markdown",
   "metadata": {
    "deletable": true,
    "editable": true
   },
   "source": [
    "## Sentence to Sequence\n",
    "To feed a sentence into the model for translation, you first need to preprocess it.  Implement the function `sentence_to_seq()` to preprocess new sentences.\n",
    "\n",
    "- Convert the sentence to lowercase\n",
    "- Convert words into ids using `vocab_to_int`\n",
    " - Convert words not in the vocabulary, to the `<UNK>` word id."
   ]
  },
  {
   "cell_type": "code",
   "execution_count": 19,
   "metadata": {
    "collapsed": false,
    "deletable": true,
    "editable": true
   },
   "outputs": [
    {
     "name": "stdout",
     "output_type": "stream",
     "text": [
      "Tests Passed\n"
     ]
    }
   ],
   "source": [
    "def sample(f, vocab_to_int):\n",
    "    if(f in vocab_to_int):\n",
    "        return vocab_to_int[f]\n",
    "    else:\n",
    "        return vocab_to_int['<UNK>']\n",
    "    \n",
    "def sentence_to_seq(sentence, vocab_to_int):\n",
    "    \"\"\"\n",
    "    Convert a sentence to a sequence of ids\n",
    "    :param sentence: String\n",
    "    :param vocab_to_int: Dictionary to go from the words to an id\n",
    "    :return: List of word ids\n",
    "    \"\"\"\n",
    "    # TODO: Implement Function\n",
    "    \n",
    "    word_ids = [ sample(word, vocab_to_int) for word in sentence.split(\" \")]\n",
    "    return word_ids\n",
    "\n",
    "\n",
    "\"\"\"\n",
    "DON'T MODIFY ANYTHING IN THIS CELL THAT IS BELOW THIS LINE\n",
    "\"\"\"\n",
    "tests.test_sentence_to_seq(sentence_to_seq)"
   ]
  },
  {
   "cell_type": "markdown",
   "metadata": {
    "deletable": true,
    "editable": true
   },
   "source": [
    "## Translate\n",
    "This will translate `translate_sentence` from English to French."
   ]
  },
  {
   "cell_type": "code",
   "execution_count": 20,
   "metadata": {
    "collapsed": false,
    "deletable": true,
    "editable": true
   },
   "outputs": [
    {
     "name": "stdout",
     "output_type": "stream",
     "text": [
      "Input\n",
      "  Word Ids:      [185, 24, 44, 158, 133, 228, 57]\n",
      "  English Words: ['he', 'saw', 'a', 'old', 'yellow', 'truck', '.']\n",
      "\n",
      "Prediction\n",
      "  Word Ids:      [110, 18, 91, 128, 141, 193, 35, 28, 1]\n",
      "  French Words: ['il', 'a', 'vu', 'un', 'vieux', 'camion', 'jaune', '.', '<EOS>']\n"
     ]
    }
   ],
   "source": [
    "translate_sentence = 'he saw a old yellow truck .'\n",
    "\n",
    "\n",
    "\"\"\"\n",
    "DON'T MODIFY ANYTHING IN THIS CELL\n",
    "\"\"\"\n",
    "translate_sentence = sentence_to_seq(translate_sentence, source_vocab_to_int)\n",
    "\n",
    "loaded_graph = tf.Graph()\n",
    "with tf.Session(graph=loaded_graph) as sess:\n",
    "    # Load saved model\n",
    "    loader = tf.train.import_meta_graph(load_path + '.meta')\n",
    "    loader.restore(sess, load_path)\n",
    "\n",
    "    input_data = loaded_graph.get_tensor_by_name('input:0')\n",
    "    logits = loaded_graph.get_tensor_by_name('logits:0')\n",
    "    keep_prob = loaded_graph.get_tensor_by_name('keep_prob:0')\n",
    "\n",
    "    translate_logits = sess.run(logits, {input_data: [translate_sentence], keep_prob: 1.0})[0]\n",
    "\n",
    "print('Input')\n",
    "print('  Word Ids:      {}'.format([i for i in translate_sentence]))\n",
    "print('  English Words: {}'.format([source_int_to_vocab[i] for i in translate_sentence]))\n",
    "\n",
    "print('\\nPrediction')\n",
    "print('  Word Ids:      {}'.format([i for i in np.argmax(translate_logits, 1)]))\n",
    "print('  French Words: {}'.format([target_int_to_vocab[i] for i in np.argmax(translate_logits, 1)]))"
   ]
  },
  {
   "cell_type": "markdown",
   "metadata": {
    "deletable": true,
    "editable": true
   },
   "source": [
    "## Imperfect Translation\n",
    "You might notice that some sentences translate better than others.  Since the dataset you're using only has a vocabulary of 227 English words of the thousands that you use, you're only going to see good results using these words.  For this project, you don't need a perfect translation. However, if you want to create a better translation model, you'll need better data.\n",
    "\n",
    "You can train on the [WMT10 French-English corpus](http://www.statmt.org/wmt10/training-giga-fren.tar).  This dataset has more vocabulary and richer in topics discussed.  However, this will take you days to train, so make sure you've a GPU and the neural network is performing well on dataset we provided.  Just make sure you play with the WMT10 corpus after you've submitted this project.\n",
    "## Submitting This Project\n",
    "When submitting this project, make sure to run all the cells before saving the notebook. Save the notebook file as \"dlnd_language_translation.ipynb\" and save it as a HTML file under \"File\" -> \"Download as\". Include the \"helper.py\" and \"problem_unittests.py\" files in your submission."
   ]
  },
  {
   "cell_type": "code",
   "execution_count": null,
   "metadata": {
    "collapsed": true,
    "deletable": true,
    "editable": true
   },
   "outputs": [],
   "source": []
  }
 ],
 "metadata": {
  "kernelspec": {
   "display_name": "Python 3",
   "language": "python",
   "name": "python3"
  },
  "language_info": {
   "codemirror_mode": {
    "name": "ipython",
    "version": 3
   },
   "file_extension": ".py",
   "mimetype": "text/x-python",
   "name": "python",
   "nbconvert_exporter": "python",
   "pygments_lexer": "ipython3",
   "version": "3.5.2"
  },
  "widgets": {
   "state": {},
   "version": "1.1.2"
  }
 },
 "nbformat": 4,
 "nbformat_minor": 0
}
