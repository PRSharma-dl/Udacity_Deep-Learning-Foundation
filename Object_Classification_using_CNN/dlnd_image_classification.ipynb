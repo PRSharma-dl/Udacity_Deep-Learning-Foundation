{
 "cells": [
  {
   "cell_type": "markdown",
   "metadata": {
    "collapsed": true,
    "deletable": true,
    "editable": true
   },
   "source": [
    "# Image Classification\n",
    "In this project, you'll classify images from the [CIFAR-10 dataset](https://www.cs.toronto.edu/~kriz/cifar.html).  The dataset consists of airplanes, dogs, cats, and other objects. You'll preprocess the images, then train a convolutional neural network on all the samples. The images need to be normalized and the labels need to be one-hot encoded.  You'll get to apply what you learned and build a convolutional, max pooling, dropout, and fully connected layers.  At the end, you'll get to see your neural network's predictions on the sample images.\n",
    "## Get the Data\n",
    "Run the following cell to download the [CIFAR-10 dataset for python](https://www.cs.toronto.edu/~kriz/cifar-10-python.tar.gz)."
   ]
  },
  {
   "cell_type": "code",
   "execution_count": 99,
   "metadata": {
    "collapsed": false,
    "deletable": true,
    "editable": true
   },
   "outputs": [
    {
     "name": "stdout",
     "output_type": "stream",
     "text": [
      "All files found!\n"
     ]
    }
   ],
   "source": [
    "\"\"\"\n",
    "DON'T MODIFY ANYTHING IN THIS CELL THAT IS BELOW THIS LINE\n",
    "\"\"\"\n",
    "from urllib.request import urlretrieve\n",
    "from os.path import isfile, isdir\n",
    "from tqdm import tqdm\n",
    "import problem_unittests as tests\n",
    "import tarfile\n",
    "\n",
    "cifar10_dataset_folder_path = 'cifar-10-batches-py'\n",
    "\n",
    "class DLProgress(tqdm):\n",
    "    last_block = 0\n",
    "\n",
    "    def hook(self, block_num=1, block_size=1, total_size=None):\n",
    "        self.total = total_size\n",
    "        self.update((block_num - self.last_block) * block_size)\n",
    "        self.last_block = block_num\n",
    "\n",
    "if not isfile('cifar-10-python.tar.gz'):\n",
    "    with DLProgress(unit='B', unit_scale=True, miniters=1, desc='CIFAR-10 Dataset') as pbar:\n",
    "        urlretrieve(\n",
    "            'https://www.cs.toronto.edu/~kriz/cifar-10-python.tar.gz',\n",
    "            'cifar-10-python.tar.gz',\n",
    "            pbar.hook)\n",
    "\n",
    "if not isdir(cifar10_dataset_folder_path):\n",
    "    with tarfile.open('cifar-10-python.tar.gz') as tar:\n",
    "        tar.extractall()\n",
    "        tar.close()\n",
    "\n",
    "\n",
    "tests.test_folder_path(cifar10_dataset_folder_path)"
   ]
  },
  {
   "cell_type": "markdown",
   "metadata": {
    "deletable": true,
    "editable": true
   },
   "source": [
    "## Explore the Data\n",
    "The dataset is broken into batches to prevent your machine from running out of memory.  The CIFAR-10 dataset consists of 5 batches, named `data_batch_1`, `data_batch_2`, etc.. Each batch contains the labels and images that are one of the following:\n",
    "* airplane\n",
    "* automobile\n",
    "* bird\n",
    "* cat\n",
    "* deer\n",
    "* dog\n",
    "* frog\n",
    "* horse\n",
    "* ship\n",
    "* truck\n",
    "\n",
    "Understanding a dataset is part of making predictions on the data.  Play around with the code cell below by changing the `batch_id` and `sample_id`. The `batch_id` is the id for a batch (1-5). The `sample_id` is the id for a image and label pair in the batch.\n",
    "\n",
    "Ask yourself \"What are all possible labels?\", \"What is the range of values for the image data?\", \"Are the labels in order or random?\".  Answers to questions like these will help you preprocess the data and end up with better predictions."
   ]
  },
  {
   "cell_type": "code",
   "execution_count": 100,
   "metadata": {
    "collapsed": false,
    "deletable": true,
    "editable": true
   },
   "outputs": [
    {
     "name": "stdout",
     "output_type": "stream",
     "text": [
      "\n",
      "Stats of batch 2:\n",
      "Samples: 10000\n",
      "Label Counts: {0: 984, 1: 1007, 2: 1010, 3: 995, 4: 1010, 5: 988, 6: 1008, 7: 1026, 8: 987, 9: 985}\n",
      "First 20 Labels: [1, 6, 6, 8, 8, 3, 4, 6, 0, 6, 0, 3, 6, 6, 5, 4, 8, 3, 2, 6]\n",
      "\n",
      "Example of Image 5:\n",
      "Image - Min Value: 3 Max Value: 219\n",
      "Image - Shape: (32, 32, 3)\n",
      "Label - Label Id: 3 Name: cat\n"
     ]
    },
    {
     "data": {
      "image/png": "[encoded data removed]",
      "text/plain": [
       "<matplotlib.figure.Figure at 0x7f7eea63d550>"
      ]
     },
     "metadata": {
      "image/png": {
       "height": 250,
       "width": 253
      }
     },
     "output_type": "display_data"
    }
   ],
   "source": [
    "%matplotlib inline\n",
    "%config InlineBackend.figure_format = 'retina'\n",
    "\n",
    "import helper\n",
    "import numpy as np\n",
    "\n",
    "# Explore the dataset\n",
    "batch_id = 2\n",
    "sample_id = 5\n",
    "helper.display_stats(cifar10_dataset_folder_path, batch_id, sample_id)"
   ]
  },
  {
   "cell_type": "markdown",
   "metadata": {
    "deletable": true,
    "editable": true
   },
   "source": [
    "## Implement Preprocess Functions\n",
    "### Normalize\n",
    "In the cell below, implement the `normalize` function to take in image data, `x`, and return it as a normalized Numpy array. The values should be in the range of 0 to 1, inclusive.  The return object should be the same shape as `x`."
   ]
  },
  {
   "cell_type": "code",
   "execution_count": 101,
   "metadata": {
    "collapsed": false,
    "deletable": true,
    "editable": true
   },
   "outputs": [
    {
     "name": "stdout",
     "output_type": "stream",
     "text": [
      "Tests Passed\n"
     ]
    }
   ],
   "source": [
    "def normalize(x):\n",
    "    \"\"\"\n",
    "    Normalize a list of sample image data in the range of 0 to 1\n",
    "    : x: List of image data.  The image shape is (32, 32, 3)\n",
    "    : return: Numpy array of normalize data\n",
    "    \"\"\"\n",
    "    # TODO: Implement Function\n",
    "    NS = len(x)\n",
    "    a = np.zeros((NS, 32, 32, 3))\n",
    "    for i, im in enumerate(x):\n",
    "        im = im/255.\n",
    "        a[i] = im\n",
    "    return a\n",
    "\n",
    "\n",
    "\"\"\"\n",
    "DON'T MODIFY ANYTHING IN THIS CELL THAT IS BELOW THIS LINE\n",
    "\"\"\"\n",
    "tests.test_normalize(normalize)"
   ]
  },
  {
   "cell_type": "markdown",
   "metadata": {
    "deletable": true,
    "editable": true
   },
   "source": [
    "### One-hot encode\n",
    "Just like the previous code cell, you'll be implementing a function for preprocessing.  This time, you'll implement the `one_hot_encode` function. The input, `x`, are a list of labels.  Implement the function to return the list of labels as One-Hot encoded Numpy array.  The possible values for labels are 0 to 9. The one-hot encoding function should return the same encoding for each value between each call to `one_hot_encode`.  Make sure to save the map of encodings outside the function.\n",
    "\n",
    "Hint: Don't reinvent the wheel."
   ]
  },
  {
   "cell_type": "code",
   "execution_count": 4,
   "metadata": {
    "collapsed": false,
    "deletable": true,
    "editable": true
   },
   "outputs": [
    {
     "name": "stdout",
     "output_type": "stream",
     "text": [
      "Tests Passed\n"
     ]
    }
   ],
   "source": [
    "def one_hot_encode(x):\n",
    "    \"\"\"\n",
    "    One hot encode a list of sample labels. Return a one-hot encoded vector for each label.\n",
    "    : x: List of sample Labels\n",
    "    : return: Numpy array of one-hot encoded labels\n",
    "    \"\"\"\n",
    "    # TODO: Implement Function\n",
    "    NS = len(x)\n",
    "    a = np.zeros((NS, 10))\n",
    "    for i, val in enumerate(x):\n",
    "        a[i][val] = 1        \n",
    "    return a\n",
    "\n",
    "\n",
    "\"\"\"\n",
    "DON'T MODIFY ANYTHING IN THIS CELL THAT IS BELOW THIS LINE\n",
    "\"\"\"\n",
    "tests.test_one_hot_encode(one_hot_encode)"
   ]
  },
  {
   "cell_type": "markdown",
   "metadata": {
    "deletable": true,
    "editable": true
   },
   "source": [
    "### Randomize Data\n",
    "As you saw from exploring the data above, the order of the samples are randomized.  It doesn't hurt to randomize it again, but you don't need to for this dataset."
   ]
  },
  {
   "cell_type": "markdown",
   "metadata": {
    "deletable": true,
    "editable": true
   },
   "source": [
    "## Preprocess all the data and save it\n",
    "Running the code cell below will preprocess all the CIFAR-10 data and save it to file. The code below also uses 10% of the training data for validation."
   ]
  },
  {
   "cell_type": "code",
   "execution_count": 5,
   "metadata": {
    "collapsed": false,
    "deletable": true,
    "editable": true
   },
   "outputs": [],
   "source": [
    "\"\"\"\n",
    "DON'T MODIFY ANYTHING IN THIS CELL\n",
    "\"\"\"\n",
    "# Preprocess Training, Validation, and Testing Data\n",
    "helper.preprocess_and_save_data(cifar10_dataset_folder_path, normalize, one_hot_encode)"
   ]
  },
  {
   "cell_type": "markdown",
   "metadata": {
    "deletable": true,
    "editable": true
   },
   "source": [
    "# Check Point\n",
    "This is your first checkpoint.  If you ever decide to come back to this notebook or have to restart the notebook, you can start from here.  The preprocessed data has been saved to disk."
   ]
  },
  {
   "cell_type": "code",
   "execution_count": 6,
   "metadata": {
    "collapsed": true,
    "deletable": true,
    "editable": true
   },
   "outputs": [],
   "source": [
    "\"\"\"\n",
    "DON'T MODIFY ANYTHING IN THIS CELL\n",
    "\"\"\"\n",
    "import pickle\n",
    "import problem_unittests as tests\n",
    "import helper\n",
    "\n",
    "# Load the Preprocessed Validation data\n",
    "valid_features, valid_labels = pickle.load(open('preprocess_validation.p', mode='rb'))"
   ]
  },
  {
   "cell_type": "markdown",
   "metadata": {
    "deletable": true,
    "editable": true
   },
   "source": [
    "## Build the network\n",
    "For the neural network, you'll build each layer into a function.  Most of the code you've seen has been outside of functions. To test your code more thoroughly, we require that you put each layer in a function.  This allows us to give you better feedback and test for simple mistakes using our unittests before you submit your project.\n",
    "\n",
    ">**Note:** If you're finding it hard to dedicate enough time for this course each week, we've provided a small shortcut to this part of the project. In the next couple of problems, you'll have the option to use classes from the [TensorFlow Layers](https://www.tensorflow.org/api_docs/python/tf/layers) or [TensorFlow Layers (contrib)](https://www.tensorflow.org/api_guides/python/contrib.layers) packages to build each layer, except the layers you build in the \"Convolutional and Max Pooling Layer\" section.  TF Layers is similar to Keras's and TFLearn's abstraction to layers, so it's easy to pickup.\n",
    "\n",
    ">However, if you would like to get the most out of this course, try to solve all the problems _without_ using anything from the TF Layers packages. You **can** still use classes from other packages that happen to have the same name as ones you find in TF Layers! For example, instead of using the TF Layers version of the `conv2d` class, [tf.layers.conv2d](https://www.tensorflow.org/api_docs/python/tf/layers/conv2d), you would want to use the TF Neural Network version of `conv2d`, [tf.nn.conv2d](https://www.tensorflow.org/api_docs/python/tf/nn/conv2d). \n",
    "\n",
    "Let's begin!\n",
    "\n",
    "### Input\n",
    "The neural network needs to read the image data, one-hot encoded labels, and dropout keep probability. Implement the following functions\n",
    "* Implement `neural_net_image_input`\n",
    " * Return a [TF Placeholder](https://www.tensorflow.org/api_docs/python/tf/placeholder)\n",
    " * Set the shape using `image_shape` with batch size set to `None`.\n",
    " * Name the TensorFlow placeholder \"x\" using the TensorFlow `name` parameter in the [TF Placeholder](https://www.tensorflow.org/api_docs/python/tf/placeholder).\n",
    "* Implement `neural_net_label_input`\n",
    " * Return a [TF Placeholder](https://www.tensorflow.org/api_docs/python/tf/placeholder)\n",
    " * Set the shape using `n_classes` with batch size set to `None`.\n",
    " * Name the TensorFlow placeholder \"y\" using the TensorFlow `name` parameter in the [TF Placeholder](https://www.tensorflow.org/api_docs/python/tf/placeholder).\n",
    "* Implement `neural_net_keep_prob_input`\n",
    " * Return a [TF Placeholder](https://www.tensorflow.org/api_docs/python/tf/placeholder) for dropout keep probability.\n",
    " * Name the TensorFlow placeholder \"keep_prob\" using the TensorFlow `name` parameter in the [TF Placeholder](https://www.tensorflow.org/api_docs/python/tf/placeholder).\n",
    "\n",
    "These names will be used at the end of the project to load your saved model.\n",
    "\n",
    "Note: `None` for shapes in TensorFlow allow for a dynamic size."
   ]
  },
  {
   "cell_type": "code",
   "execution_count": 7,
   "metadata": {
    "collapsed": false,
    "deletable": true,
    "editable": true
   },
   "outputs": [
    {
     "name": "stdout",
     "output_type": "stream",
     "text": [
      "Image Input Tests Passed.\n",
      "Label Input Tests Passed.\n",
      "Keep Prob Tests Passed.\n"
     ]
    }
   ],
   "source": [
    "import tensorflow as tf\n",
    "\n",
    "def neural_net_image_input(image_shape):\n",
    "    \"\"\"\n",
    "    Return a Tensor for a bach of image input\n",
    "    : image_shape: Shape of the images\n",
    "    : return: Tensor for image input.\n",
    "    \"\"\"\n",
    "    # TODO: Implement Function\n",
    "    return tf.placeholder(tf.float32, [None, image_shape[0], image_shape[1], image_shape[2]], \"x\")\n",
    "    \n",
    "\n",
    "\n",
    "def neural_net_label_input(n_classes):\n",
    "    \"\"\"\n",
    "    Return a Tensor for a batch of label input\n",
    "    : n_classes: Number of classes\n",
    "    : return: Tensor for label input.\n",
    "    \"\"\"\n",
    "    # TODO: Implement Function\n",
    "    labels = tf.placeholder(tf.float32, [None, n_classes], \"y\")\n",
    "    return labels\n",
    "\n",
    "\n",
    "def neural_net_keep_prob_input():\n",
    "    \"\"\"\n",
    "    Return a Tensor for keep probability\n",
    "    : return: Tensor for keep probability.\n",
    "    \"\"\"\n",
    "    # TODO: Implement Function\n",
    "    keep_prob = tf.placeholder(tf.float32, name = 'keep_prob')\n",
    "    return keep_prob\n",
    "\n",
    "\n",
    "\"\"\"\n",
    "DON'T MODIFY ANYTHING IN THIS CELL THAT IS BELOW THIS LINE\n",
    "\"\"\"\n",
    "tf.reset_default_graph()\n",
    "tests.test_nn_image_inputs(neural_net_image_input)\n",
    "tests.test_nn_label_inputs(neural_net_label_input)\n",
    "tests.test_nn_keep_prob_inputs(neural_net_keep_prob_input)"
   ]
  },
  {
   "cell_type": "markdown",
   "metadata": {
    "deletable": true,
    "editable": true
   },
   "source": [
    "### Convolution and Max Pooling Layer\n",
    "Convolution layers have a lot of success with images. For this code cell, you should implement the function `conv2d_maxpool` to apply convolution then max pooling:\n",
    "* Create the weight and bias using `conv_ksize`, `conv_num_outputs` and the shape of `x_tensor`.\n",
    "* Apply a convolution to `x_tensor` using weight and `conv_strides`.\n",
    " * We recommend you use same padding, but you're welcome to use any padding.\n",
    "* Add bias\n",
    "* Add a nonlinear activation to the convolution.\n",
    "* Apply Max Pooling using `pool_ksize` and `pool_strides`.\n",
    " * We recommend you use same padding, but you're welcome to use any padding.\n",
    "\n",
    "**Note:** You **can't** use [TensorFlow Layers](https://www.tensorflow.org/api_docs/python/tf/layers) or [TensorFlow Layers (contrib)](https://www.tensorflow.org/api_guides/python/contrib.layers) for **this** layer, but you can still use TensorFlow's [Neural Network](https://www.tensorflow.org/api_docs/python/tf/nn) package. You may still use the shortcut option for all the **other** layers."
   ]
  },
  {
   "cell_type": "code",
   "execution_count": 8,
   "metadata": {
    "collapsed": false,
    "deletable": true,
    "editable": true
   },
   "outputs": [
    {
     "name": "stdout",
     "output_type": "stream",
     "text": [
      "Tests Passed\n"
     ]
    }
   ],
   "source": [
    "def conv2d_maxpool(x_tensor, conv_num_outputs, conv_ksize, conv_strides, pool_ksize, pool_strides):\n",
    "    \"\"\"\n",
    "    Apply convolution then max pooling to x_tensor\n",
    "    :param x_tensor: TensorFlow Tensor\n",
    "    :param conv_num_outputs: Number of outputs for the convolutional layer\n",
    "    :param conv_ksize: kernal size 2-D Tuple for the convolutional layer\n",
    "    :param conv_strides: Stride 2-D Tuple for convolution\n",
    "    :param pool_ksize: kernal size 2-D Tuple for pool\n",
    "    :param pool_strides: Stride 2-D Tuple for pool\n",
    "    : return: A tensor that represents convolution and max pooling of x_tensor\n",
    "    \"\"\"\n",
    "    #print(type(x_tensor.shape))\n",
    "    inp_ch = x_tensor.get_shape().as_list()[3]\n",
    "    weight =  tf.Variable(tf.truncated_normal([conv_ksize[0], conv_ksize[1], inp_ch, conv_num_outputs], 0.0, 0.05))\n",
    "    \n",
    "    #weight =  tf.Variable(tf.random_normal([conv_ksize[0], conv_ksize[1], x_tensor.shape[3], conv_num_outputs]))\n",
    "    bias = tf.Variable(tf.truncated_normal([conv_num_outputs], 0.0, 0.05))\n",
    "    \n",
    "    conv = tf.nn.conv2d(x_tensor, weight, [1, conv_strides[0], conv_strides[1], 1], padding='SAME')\n",
    "    conv_bias = tf.nn.bias_add(conv, bias)\n",
    "    relu = tf.nn.relu(conv_bias)\n",
    "\n",
    "    \n",
    "    #if(pool_ksize[0] !=1 and pool_ksize[1] != 1):\n",
    "    pool = tf.nn.max_pool(relu, [1, pool_ksize[0], pool_ksize[1], 1], [1, pool_strides[0], pool_strides[1], 1],  padding='VALID')\n",
    "    # TODO: Implement Function\n",
    "    return pool\n",
    "\n",
    "\n",
    "\"\"\"\n",
    "DON'T MODIFY ANYTHING IN THIS CELL THAT IS BELOW THIS LINE\n",
    "\"\"\"\n",
    "tests.test_con_pool(conv2d_maxpool)"
   ]
  },
  {
   "cell_type": "markdown",
   "metadata": {
    "deletable": true,
    "editable": true
   },
   "source": [
    "### Flatten Layer\n",
    "Implement the `flatten` function to change the dimension of `x_tensor` from a 4-D tensor to a 2-D tensor.  The output should be the shape (*Batch Size*, *Flattened Image Size*). Shortcut option: you can use classes from the [TensorFlow Layers](https://www.tensorflow.org/api_docs/python/tf/layers) or [TensorFlow Layers (contrib)](https://www.tensorflow.org/api_guides/python/contrib.layers) packages for this layer. For more of a challenge, only use other TensorFlow packages."
   ]
  },
  {
   "cell_type": "code",
   "execution_count": 9,
   "metadata": {
    "collapsed": false,
    "deletable": true,
    "editable": true
   },
   "outputs": [
    {
     "name": "stdout",
     "output_type": "stream",
     "text": [
      "Tests Passed\n"
     ]
    }
   ],
   "source": [
    "def flatten(x_tensor):\n",
    "    \"\"\"\n",
    "    Flatten x_tensor to (Batch Size, Flattened Image Size)\n",
    "    : x_tensor: A tensor of size (Batch Size, ...), where ... are the image dimensions.\n",
    "    : return: A tensor of size (Batch Size, Flattened Image Size).\n",
    "    \"\"\"\n",
    "    # TODO: Implement Function\n",
    "    sh = x_tensor.get_shape().as_list()\n",
    "    bs = sh[0] \n",
    "    sz = sh[1] * sh[2] * sh[3] \n",
    "    res = tf.reshape(x_tensor, [-1, sz])\n",
    "    return res\n",
    "\n",
    "\n",
    "\"\"\"\n",
    "DON'T MODIFY ANYTHING IN THIS CELL THAT IS BELOW THIS LINE\n",
    "\"\"\"\n",
    "tests.test_flatten(flatten)"
   ]
  },
  {
   "cell_type": "markdown",
   "metadata": {
    "deletable": true,
    "editable": true
   },
   "source": [
    "### Fully-Connected Layer\n",
    "Implement the `fully_conn` function to apply a fully connected layer to `x_tensor` with the shape (*Batch Size*, *num_outputs*). Shortcut option: you can use classes from the [TensorFlow Layers](https://www.tensorflow.org/api_docs/python/tf/layers) or [TensorFlow Layers (contrib)](https://www.tensorflow.org/api_guides/python/contrib.layers) packages for this layer. For more of a challenge, only use other TensorFlow packages."
   ]
  },
  {
   "cell_type": "code",
   "execution_count": 10,
   "metadata": {
    "collapsed": false,
    "deletable": true,
    "editable": true
   },
   "outputs": [
    {
     "name": "stdout",
     "output_type": "stream",
     "text": [
      "Tests Passed\n"
     ]
    }
   ],
   "source": [
    "def fully_conn(x_tensor, num_outputs):\n",
    "    \"\"\"\n",
    "    Apply a fully connected layer to x_tensor using weight and bias\n",
    "    : x_tensor: A 2-D tensor where the first dimension is batch size.\n",
    "    : num_outputs: The number of output that the new tensor should be.\n",
    "    : return: A 2-D tensor where the second dimension is num_outputs.\n",
    "    \"\"\"\n",
    "    # TODO: Implement Function\n",
    "    sh = x_tensor.get_shape().as_list()\n",
    "    fc_weight = tf.Variable(tf.truncated_normal([sh[1], num_outputs], 0.0, 0.05))\n",
    "    fc_bias = tf.Variable(tf.truncated_normal([num_outputs], 0.0, 0.05))\n",
    "    \n",
    "    fc = tf.add(tf.matmul(x_tensor, fc_weight), fc_bias)\n",
    "    fc_relu = tf.nn.relu(fc)\n",
    "    return fc_relu\n",
    "\n",
    "\n",
    "\"\"\"\n",
    "DON'T MODIFY ANYTHING IN THIS CELL THAT IS BELOW THIS LINE\n",
    "\"\"\"\n",
    "tests.test_fully_conn(fully_conn)"
   ]
  },
  {
   "cell_type": "markdown",
   "metadata": {
    "deletable": true,
    "editable": true
   },
   "source": [
    "### Output Layer\n",
    "Implement the `output` function to apply a fully connected layer to `x_tensor` with the shape (*Batch Size*, *num_outputs*). Shortcut option: you can use classes from the [TensorFlow Layers](https://www.tensorflow.org/api_docs/python/tf/layers) or [TensorFlow Layers (contrib)](https://www.tensorflow.org/api_guides/python/contrib.layers) packages for this layer. For more of a challenge, only use other TensorFlow packages.\n",
    "\n",
    "**Note:** Activation, softmax, or cross entropy should **not** be applied to this."
   ]
  },
  {
   "cell_type": "code",
   "execution_count": 68,
   "metadata": {
    "collapsed": false,
    "deletable": true,
    "editable": true
   },
   "outputs": [
    {
     "name": "stdout",
     "output_type": "stream",
     "text": [
      "Tests Passed\n"
     ]
    }
   ],
   "source": [
    "def output(x_tensor, num_outputs):\n",
    "    \"\"\"\n",
    "    Apply a output layer to x_tensor using weight and bias\n",
    "    : x_tensor: A 2-D tensor where the first dimension is batch size.\n",
    "    : num_outputs: The number of output that the new tensor should be.\n",
    "    : return: A 2-D tensor where the second dimension is num_outputs.\n",
    "    \"\"\"\n",
    "    # TODO: Implement Function\n",
    "    sh = x_tensor.get_shape().as_list()\n",
    "    out_weight = tf.Variable(tf.truncated_normal([sh[1], num_outputs], 0.0, 0.05))\n",
    "    out_bias = tf.Variable(tf.truncated_normal([num_outputs], 0.0, 0.05))\n",
    "    out = tf.add(tf.matmul(x_tensor, out_weight), out_bias)\n",
    "    return out\n",
    "\n",
    "\n",
    "\"\"\"\n",
    "DON'T MODIFY ANYTHING IN THIS CELL THAT IS BELOW THIS LINE\n",
    "\"\"\"\n",
    "tests.test_output(output)"
   ]
  },
  {
   "cell_type": "markdown",
   "metadata": {
    "deletable": true,
    "editable": true
   },
   "source": [
    "### Create Convolutional Model\n",
    "Implement the function `conv_net` to create a convolutional neural network model. The function takes in a batch of images, `x`, and outputs logits.  Use the layers you created above to create this model:\n",
    "\n",
    "* Apply 1, 2, or 3 Convolution and Max Pool layers\n",
    "* Apply a Flatten Layer\n",
    "* Apply 1, 2, or 3 Fully Connected Layers\n",
    "* Apply an Output Layer\n",
    "* Return the output\n",
    "* Apply [TensorFlow's Dropout](https://www.tensorflow.org/api_docs/python/tf/nn/dropout) to one or more layers in the model using `keep_prob`. "
   ]
  },
  {
   "cell_type": "code",
   "execution_count": 106,
   "metadata": {
    "collapsed": false,
    "deletable": true,
    "editable": true
   },
   "outputs": [
    {
     "name": "stdout",
     "output_type": "stream",
     "text": [
      "Neural Network Built!\n"
     ]
    }
   ],
   "source": [
    "def conv_net(x, keep_prob):\n",
    "    \"\"\"\n",
    "    Create a convolutional neural network model\n",
    "    : x: Placeholder tensor that holds image data.\n",
    "    : keep_prob: Placeholder tensor that hold dropout keep probability.\n",
    "    : return: Tensor that represents logits\n",
    "    \"\"\"\n",
    "    # TODO: Apply 1, 2, or 3 Convolution and Max Pool layers\n",
    "    #    Play around with different number of outputs, kernel size and stride\n",
    "    # Function Definition from Above:\n",
    "    #conv2d_maxpool(x_tensor, conv_num_outputs, conv_ksize, conv_strides, pool_ksize, pool_strides)\n",
    "    conv1 = conv2d_maxpool(x, 16, (3, 3), (1, 1), (1, 1), (1, 1))\n",
    "    conv2 = conv2d_maxpool(conv1, 32, (3, 3), (1, 1), (1, 1), (1, 1))\n",
    "    conv3 = conv2d_maxpool(conv2, 32, (3, 3), (1, 1), (2, 2), (2, 2))\n",
    "    conv4 = conv2d_maxpool(conv3, 64, (3, 3), (1, 1), (2, 2), (2, 2))\n",
    "\n",
    "    # TODO: Apply a Flatten Layer\n",
    "    # Function Definition from Above:\n",
    "    #   flatten(x_tensor)\n",
    "    fl1 = flatten(conv4)\n",
    "    dp1 = tf.nn.dropout(fl1, keep_prob)\n",
    "    \n",
    "\n",
    "    # TODO: Apply 1, 2, or 3 Fully Connected Layers\n",
    "    #    Play around with different number of outputs\n",
    "    # Function Definition from Above:\n",
    "    #   fully_conn(x_tensor, num_outputs)\n",
    "    fc1 = fully_conn(dp1, 512)\n",
    "    dp2 = tf.nn.dropout(fc1, keep_prob)\n",
    "    fc2 = fully_conn(dp2, 128)\n",
    "    dp3 = tf.nn.dropout(fc2, keep_prob)\n",
    "    \n",
    "    # TODO: Apply an Output Layer\n",
    "    #    Set this to the number of classes\n",
    "    # Function Definition from Above:\n",
    "    #   output(x_tensor, num_outputs)\n",
    "    out = output(dp3, 10)\n",
    "    \n",
    "    # TODO: return output\n",
    "    return out\n",
    "\n",
    "\n",
    "\"\"\"\n",
    "DON'T MODIFY ANYTHING IN THIS CELL THAT IS BELOW THIS LINE\n",
    "\"\"\"\n",
    "\n",
    "##############################\n",
    "## Build the Neural Network ##\n",
    "##############################\n",
    "\n",
    "# Remove previous weights, bias, inputs, etc..\n",
    "tf.reset_default_graph()\n",
    "\n",
    "# Inputs\n",
    "x = neural_net_image_input((32, 32, 3))\n",
    "y = neural_net_label_input(10)\n",
    "keep_prob = neural_net_keep_prob_input()\n",
    "\n",
    "# Model\n",
    "logits = conv_net(x, keep_prob)\n",
    "\n",
    "# Name logits Tensor, so that is can be loaded from disk after training\n",
    "logits = tf.identity(logits, name='logits')\n",
    "\n",
    "# Loss and Optimizer\n",
    "cost = tf.reduce_mean(tf.nn.softmax_cross_entropy_with_logits(logits=logits, labels=y))\n",
    "optimizer = tf.train.AdamOptimizer().minimize(cost)\n",
    "\n",
    "# Accuracy\n",
    "correct_pred = tf.equal(tf.argmax(logits, 1), tf.argmax(y, 1))\n",
    "accuracy = tf.reduce_mean(tf.cast(correct_pred, tf.float32), name='accuracy')\n",
    "\n",
    "tests.test_conv_net(conv_net)"
   ]
  },
  {
   "cell_type": "markdown",
   "metadata": {
    "deletable": true,
    "editable": true
   },
   "source": [
    "## Train the Neural Network\n",
    "### Single Optimization\n",
    "Implement the function `train_neural_network` to do a single optimization.  The optimization should use `optimizer` to optimize in `session` with a `feed_dict` of the following:\n",
    "* `x` for image input\n",
    "* `y` for labels\n",
    "* `keep_prob` for keep probability for dropout\n",
    "\n",
    "This function will be called for each batch, so `tf.global_variables_initializer()` has already been called.\n",
    "\n",
    "Note: Nothing needs to be returned. This function is only optimizing the neural network."
   ]
  },
  {
   "cell_type": "code",
   "execution_count": 95,
   "metadata": {
    "collapsed": false,
    "deletable": true,
    "editable": true
   },
   "outputs": [
    {
     "name": "stdout",
     "output_type": "stream",
     "text": [
      "Tests Passed\n"
     ]
    }
   ],
   "source": [
    "def train_neural_network(session, optimizer, keep_probability, feature_batch, label_batch):\n",
    "    \"\"\"\n",
    "    Optimize the session on a batch of images and labels\n",
    "    : session: Current TensorFlow session\n",
    "    : optimizer: TensorFlow optimizer function\n",
    "    : keep_probability: keep probability\n",
    "    : feature_batch: Batch of Numpy image data\n",
    "    : label_batch: Batch of Numpy label data\n",
    "    \"\"\"\n",
    "    # TODO: Implement Function\n",
    "    #with session as sess:\n",
    "    session.run(optimizer, feed_dict={\n",
    "                x: feature_batch,\n",
    "                y: label_batch,\n",
    "                keep_prob: keep_probability})\n",
    "    \n",
    "\n",
    "\n",
    "\"\"\"\n",
    "DON'T MODIFY ANYTHING IN THIS CELL THAT IS BELOW THIS LINE\n",
    "\"\"\"\n",
    "tests.test_train_nn(train_neural_network)"
   ]
  },
  {
   "cell_type": "markdown",
   "metadata": {
    "deletable": true,
    "editable": true
   },
   "source": [
    "### Show Stats\n",
    "Implement the function `print_stats` to print loss and validation accuracy.  Use the global variables `valid_features` and `valid_labels` to calculate validation accuracy.  Use a keep probability of `1.0` to calculate the loss and validation accuracy."
   ]
  },
  {
   "cell_type": "code",
   "execution_count": 96,
   "metadata": {
    "collapsed": false,
    "deletable": true,
    "editable": true
   },
   "outputs": [],
   "source": [
    "def print_stats(session, feature_batch, label_batch, cost, accuracy):\n",
    "    \"\"\"\n",
    "    Print information about loss and validation accuracy\n",
    "    : session: Current TensorFlow session\n",
    "    : feature_batch: Batch of Numpy image data\n",
    "    : label_batch: Batch of Numpy label data\n",
    "    : cost: TensorFlow cost function\n",
    "    : accuracy: TensorFlow accuracy function\n",
    "    \"\"\"\n",
    "    # TODO: Implement Function\n",
    "    \n",
    "    loss = session.run(cost, feed_dict={\n",
    "                x: valid_features,\n",
    "                y: valid_labels,\n",
    "                keep_prob: 1.})\n",
    "    valid_acc = session.run(accuracy, feed_dict={\n",
    "                x: valid_features,\n",
    "                y: valid_labels,\n",
    "                keep_prob: 1.})\n",
    "\n",
    "    print('Loss: {:>10.4f} Validation Accuracy: {:.6f}'.format(loss, valid_acc))\n",
    "    pass"
   ]
  },
  {
   "cell_type": "markdown",
   "metadata": {
    "deletable": true,
    "editable": true
   },
   "source": [
    "### Hyperparameters\n",
    "Tune the following parameters:\n",
    "* Set `epochs` to the number of iterations until the network stops learning or start overfitting\n",
    "* Set `batch_size` to the highest number that your machine has memory for.  Most people set them to common sizes of memory:\n",
    " * 64\n",
    " * 128\n",
    " * 256\n",
    " * ...\n",
    "* Set `keep_probability` to the probability of keeping a node using dropout"
   ]
  },
  {
   "cell_type": "code",
   "execution_count": 104,
   "metadata": {
    "collapsed": true,
    "deletable": true,
    "editable": true
   },
   "outputs": [],
   "source": [
    "# TODO: Tune Parameters\n",
    "epochs = 50\n",
    "batch_size = 64\n",
    "keep_probability = 0.5"
   ]
  },
  {
   "cell_type": "markdown",
   "metadata": {
    "deletable": true,
    "editable": true
   },
   "source": [
    "### Train on a Single CIFAR-10 Batch\n",
    "Instead of training the neural network on all the CIFAR-10 batches of data, let's use a single batch. This should save time while you iterate on the model to get a better accuracy.  Once the final validation accuracy is 50% or greater, run the model on all the data in the next section."
   ]
  },
  {
   "cell_type": "code",
   "execution_count": 105,
   "metadata": {
    "collapsed": false,
    "deletable": true,
    "editable": true
   },
   "outputs": [
    {
     "name": "stdout",
     "output_type": "stream",
     "text": [
      "Checking the Training on a Single Batch...\n",
      "Epoch  1, CIFAR-10 Batch 1:  Loss:     2.0692 Validation Accuracy: 0.235000\n",
      "Epoch  2, CIFAR-10 Batch 1:  Loss:     1.7461 Validation Accuracy: 0.366000\n",
      "Epoch  3, CIFAR-10 Batch 1:  Loss:     1.5986 Validation Accuracy: 0.414600\n",
      "Epoch  4, CIFAR-10 Batch 1:  Loss:     1.5264 Validation Accuracy: 0.441400\n",
      "Epoch  5, CIFAR-10 Batch 1:  Loss:     1.4913 Validation Accuracy: 0.457200\n",
      "Epoch  6, CIFAR-10 Batch 1:  Loss:     1.4028 Validation Accuracy: 0.490800\n",
      "Epoch  7, CIFAR-10 Batch 1:  Loss:     1.3676 Validation Accuracy: 0.504000\n",
      "Epoch  8, CIFAR-10 Batch 1:  Loss:     1.3243 Validation Accuracy: 0.519600\n",
      "Epoch  9, CIFAR-10 Batch 1:  Loss:     1.3370 Validation Accuracy: 0.518800\n",
      "Epoch 10, CIFAR-10 Batch 1:  Loss:     1.2745 Validation Accuracy: 0.549400\n",
      "Epoch 11, CIFAR-10 Batch 1:  Loss:     1.2444 Validation Accuracy: 0.561400\n",
      "Epoch 12, CIFAR-10 Batch 1:  Loss:     1.2571 Validation Accuracy: 0.557800\n",
      "Epoch 13, CIFAR-10 Batch 1:  Loss:     1.2250 Validation Accuracy: 0.570000\n",
      "Epoch 14, CIFAR-10 Batch 1:  Loss:     1.2009 Validation Accuracy: 0.581800\n",
      "Epoch 15, CIFAR-10 Batch 1:  Loss:     1.1817 Validation Accuracy: 0.591000\n",
      "Epoch 16, CIFAR-10 Batch 1:  Loss:     1.1925 Validation Accuracy: 0.596800\n",
      "Epoch 17, CIFAR-10 Batch 1:  Loss:     1.1743 Validation Accuracy: 0.589200\n",
      "Epoch 18, CIFAR-10 Batch 1:  Loss:     1.1517 Validation Accuracy: 0.607000\n",
      "Epoch 19, CIFAR-10 Batch 1:  Loss:     1.1850 Validation Accuracy: 0.601000\n",
      "Epoch 20, CIFAR-10 Batch 1:  Loss:     1.1679 Validation Accuracy: 0.608800\n",
      "Epoch 21, CIFAR-10 Batch 1:  Loss:     1.1587 Validation Accuracy: 0.614000\n",
      "Epoch 22, CIFAR-10 Batch 1:  Loss:     1.1799 Validation Accuracy: 0.606800\n",
      "Epoch 23, CIFAR-10 Batch 1:  Loss:     1.1931 Validation Accuracy: 0.609200\n",
      "Epoch 24, CIFAR-10 Batch 1:  Loss:     1.1488 Validation Accuracy: 0.617000\n",
      "Epoch 25, CIFAR-10 Batch 1:  Loss:     1.1704 Validation Accuracy: 0.613600\n",
      "Epoch 26, CIFAR-10 Batch 1:  Loss:     1.1627 Validation Accuracy: 0.619600\n",
      "Epoch 27, CIFAR-10 Batch 1:  Loss:     1.1822 Validation Accuracy: 0.612200\n",
      "Epoch 28, CIFAR-10 Batch 1:  Loss:     1.1486 Validation Accuracy: 0.625800\n",
      "Epoch 29, CIFAR-10 Batch 1:  Loss:     1.1741 Validation Accuracy: 0.616800\n",
      "Epoch 30, CIFAR-10 Batch 1:  Loss:     1.1573 Validation Accuracy: 0.621200\n",
      "Epoch 31, CIFAR-10 Batch 1:  Loss:     1.1615 Validation Accuracy: 0.619400\n",
      "Epoch 32, CIFAR-10 Batch 1:  Loss:     1.1725 Validation Accuracy: 0.625000\n",
      "Epoch 33, CIFAR-10 Batch 1:  Loss:     1.1925 Validation Accuracy: 0.621200\n",
      "Epoch 34, CIFAR-10 Batch 1:  Loss:     1.1868 Validation Accuracy: 0.629200\n",
      "Epoch 35, CIFAR-10 Batch 1:  Loss:     1.1996 Validation Accuracy: 0.612600\n",
      "Epoch 36, CIFAR-10 Batch 1:  Loss:     1.2526 Validation Accuracy: 0.609800\n",
      "Epoch 37, CIFAR-10 Batch 1:  Loss:     1.1741 Validation Accuracy: 0.629400\n",
      "Epoch 38, CIFAR-10 Batch 1:  Loss:     1.2003 Validation Accuracy: 0.624000\n",
      "Epoch 39, CIFAR-10 Batch 1:  Loss:     1.2417 Validation Accuracy: 0.610800\n",
      "Epoch 40, CIFAR-10 Batch 1:  Loss:     1.1908 Validation Accuracy: 0.626600\n",
      "Epoch 41, CIFAR-10 Batch 1:  Loss:     1.2175 Validation Accuracy: 0.615000\n",
      "Epoch 42, CIFAR-10 Batch 1:  Loss:     1.1879 Validation Accuracy: 0.623800\n",
      "Epoch 43, CIFAR-10 Batch 1:  Loss:     1.2267 Validation Accuracy: 0.618200\n",
      "Epoch 44, CIFAR-10 Batch 1:  Loss:     1.2109 Validation Accuracy: 0.631200\n",
      "Epoch 45, CIFAR-10 Batch 1:  Loss:     1.2129 Validation Accuracy: 0.625400\n",
      "Epoch 46, CIFAR-10 Batch 1:  Loss:     1.2380 Validation Accuracy: 0.626000\n",
      "Epoch 47, CIFAR-10 Batch 1:  Loss:     1.2167 Validation Accuracy: 0.629000\n",
      "Epoch 48, CIFAR-10 Batch 1:  Loss:     1.2748 Validation Accuracy: 0.620600\n",
      "Epoch 49, CIFAR-10 Batch 1:  Loss:     1.2150 Validation Accuracy: 0.629400\n",
      "Epoch 50, CIFAR-10 Batch 1:  Loss:     1.2679 Validation Accuracy: 0.615600\n"
     ]
    }
   ],
   "source": [
    "\"\"\"\n",
    "DON'T MODIFY ANYTHING IN THIS CELL\n",
    "\"\"\"\n",
    "print('Checking the Training on a Single Batch...')\n",
    "with tf.Session() as sess:\n",
    "    # Initializing the variables\n",
    "    sess.run(tf.global_variables_initializer())\n",
    "    \n",
    "    # Training cycle\n",
    "    for epoch in range(epochs):\n",
    "        batch_i = 1\n",
    "        for batch_features, batch_labels in helper.load_preprocess_training_batch(batch_i, batch_size):\n",
    "            train_neural_network(sess, optimizer, keep_probability, batch_features, batch_labels)\n",
    "        print('Epoch {:>2}, CIFAR-10 Batch {}:  '.format(epoch + 1, batch_i), end='')\n",
    "        print_stats(sess, batch_features, batch_labels, cost, accuracy)"
   ]
  },
  {
   "cell_type": "markdown",
   "metadata": {
    "deletable": true,
    "editable": true
   },
   "source": [
    "### Fully Train the Model\n",
    "Now that you got a good accuracy with a single CIFAR-10 batch, try it with all five batches."
   ]
  },
  {
   "cell_type": "code",
   "execution_count": 98,
   "metadata": {
    "collapsed": false,
    "deletable": true,
    "editable": true
   },
   "outputs": [
    {
     "name": "stdout",
     "output_type": "stream",
     "text": [
      "Training...\n",
      "Epoch  1, CIFAR-10 Batch 1:  Loss:     2.0656 Validation Accuracy: 0.256400\n",
      "Epoch  1, CIFAR-10 Batch 2:  Loss:     1.8856 Validation Accuracy: 0.323000\n",
      "Epoch  1, CIFAR-10 Batch 3:  Loss:     1.6638 Validation Accuracy: 0.373600\n",
      "Epoch  1, CIFAR-10 Batch 4:  Loss:     1.5793 Validation Accuracy: 0.405200\n",
      "Epoch  1, CIFAR-10 Batch 5:  Loss:     1.5451 Validation Accuracy: 0.446000\n",
      "Epoch  2, CIFAR-10 Batch 1:  Loss:     1.4506 Validation Accuracy: 0.472600\n",
      "Epoch  2, CIFAR-10 Batch 2:  Loss:     1.3978 Validation Accuracy: 0.484400\n",
      "Epoch  2, CIFAR-10 Batch 3:  Loss:     1.3590 Validation Accuracy: 0.495000\n",
      "Epoch  2, CIFAR-10 Batch 4:  Loss:     1.3057 Validation Accuracy: 0.520800\n",
      "Epoch  2, CIFAR-10 Batch 5:  Loss:     1.2974 Validation Accuracy: 0.543400\n",
      "Epoch  3, CIFAR-10 Batch 1:  Loss:     1.2466 Validation Accuracy: 0.551000\n",
      "Epoch  3, CIFAR-10 Batch 2:  Loss:     1.2113 Validation Accuracy: 0.563800\n",
      "Epoch  3, CIFAR-10 Batch 3:  Loss:     1.1906 Validation Accuracy: 0.572400\n",
      "Epoch  3, CIFAR-10 Batch 4:  Loss:     1.1927 Validation Accuracy: 0.568000\n",
      "Epoch  3, CIFAR-10 Batch 5:  Loss:     1.1958 Validation Accuracy: 0.582400\n",
      "Epoch  4, CIFAR-10 Batch 1:  Loss:     1.1090 Validation Accuracy: 0.611200\n",
      "Epoch  4, CIFAR-10 Batch 2:  Loss:     1.1192 Validation Accuracy: 0.613400\n",
      "Epoch  4, CIFAR-10 Batch 3:  Loss:     1.0902 Validation Accuracy: 0.606400\n",
      "Epoch  4, CIFAR-10 Batch 4:  Loss:     1.0629 Validation Accuracy: 0.622400\n",
      "Epoch  4, CIFAR-10 Batch 5:  Loss:     1.0721 Validation Accuracy: 0.629400\n",
      "Epoch  5, CIFAR-10 Batch 1:  Loss:     1.0275 Validation Accuracy: 0.638000\n",
      "Epoch  5, CIFAR-10 Batch 2:  Loss:     1.0477 Validation Accuracy: 0.634400\n",
      "Epoch  5, CIFAR-10 Batch 3:  Loss:     1.0100 Validation Accuracy: 0.644200\n",
      "Epoch  5, CIFAR-10 Batch 4:  Loss:     0.9937 Validation Accuracy: 0.644000\n",
      "Epoch  5, CIFAR-10 Batch 5:  Loss:     0.9898 Validation Accuracy: 0.663200\n",
      "Epoch  6, CIFAR-10 Batch 1:  Loss:     0.9882 Validation Accuracy: 0.654200\n",
      "Epoch  6, CIFAR-10 Batch 2:  Loss:     0.9590 Validation Accuracy: 0.672600\n",
      "Epoch  6, CIFAR-10 Batch 3:  Loss:     0.9494 Validation Accuracy: 0.666000\n",
      "Epoch  6, CIFAR-10 Batch 4:  Loss:     0.9495 Validation Accuracy: 0.671200\n",
      "Epoch  6, CIFAR-10 Batch 5:  Loss:     0.9506 Validation Accuracy: 0.673400\n",
      "Epoch  7, CIFAR-10 Batch 1:  Loss:     0.9332 Validation Accuracy: 0.674800\n",
      "Epoch  7, CIFAR-10 Batch 2:  Loss:     0.9174 Validation Accuracy: 0.693400\n",
      "Epoch  7, CIFAR-10 Batch 3:  Loss:     0.8985 Validation Accuracy: 0.684000\n",
      "Epoch  7, CIFAR-10 Batch 4:  Loss:     0.8822 Validation Accuracy: 0.697200\n",
      "Epoch  7, CIFAR-10 Batch 5:  Loss:     0.9112 Validation Accuracy: 0.688400\n",
      "Epoch  8, CIFAR-10 Batch 1:  Loss:     0.9134 Validation Accuracy: 0.688800\n",
      "Epoch  8, CIFAR-10 Batch 2:  Loss:     0.8832 Validation Accuracy: 0.697400\n",
      "Epoch  8, CIFAR-10 Batch 3:  Loss:     0.8739 Validation Accuracy: 0.698000\n",
      "Epoch  8, CIFAR-10 Batch 4:  Loss:     0.8815 Validation Accuracy: 0.694800\n",
      "Epoch  8, CIFAR-10 Batch 5:  Loss:     0.8698 Validation Accuracy: 0.706000\n",
      "Epoch  9, CIFAR-10 Batch 1:  Loss:     0.8608 Validation Accuracy: 0.703000\n",
      "Epoch  9, CIFAR-10 Batch 2:  Loss:     0.8400 Validation Accuracy: 0.710400\n",
      "Epoch  9, CIFAR-10 Batch 3:  Loss:     0.8483 Validation Accuracy: 0.701800\n",
      "Epoch  9, CIFAR-10 Batch 4:  Loss:     0.8411 Validation Accuracy: 0.713400\n",
      "Epoch  9, CIFAR-10 Batch 5:  Loss:     0.8908 Validation Accuracy: 0.695000\n",
      "Epoch 10, CIFAR-10 Batch 1:  Loss:     0.8300 Validation Accuracy: 0.717200\n",
      "Epoch 10, CIFAR-10 Batch 2:  Loss:     0.8345 Validation Accuracy: 0.718400\n",
      "Epoch 10, CIFAR-10 Batch 3:  Loss:     0.8420 Validation Accuracy: 0.711400\n",
      "Epoch 10, CIFAR-10 Batch 4:  Loss:     0.8401 Validation Accuracy: 0.717400\n",
      "Epoch 10, CIFAR-10 Batch 5:  Loss:     0.8180 Validation Accuracy: 0.716200\n",
      "Epoch 11, CIFAR-10 Batch 1:  Loss:     0.8006 Validation Accuracy: 0.725200\n",
      "Epoch 11, CIFAR-10 Batch 2:  Loss:     0.8125 Validation Accuracy: 0.722600\n",
      "Epoch 11, CIFAR-10 Batch 3:  Loss:     0.8134 Validation Accuracy: 0.725200\n",
      "Epoch 11, CIFAR-10 Batch 4:  Loss:     0.7989 Validation Accuracy: 0.723000\n",
      "Epoch 11, CIFAR-10 Batch 5:  Loss:     0.8109 Validation Accuracy: 0.723800\n",
      "Epoch 12, CIFAR-10 Batch 1:  Loss:     0.7877 Validation Accuracy: 0.730400\n",
      "Epoch 12, CIFAR-10 Batch 2:  Loss:     0.7962 Validation Accuracy: 0.730400\n",
      "Epoch 12, CIFAR-10 Batch 3:  Loss:     0.7973 Validation Accuracy: 0.720400\n",
      "Epoch 12, CIFAR-10 Batch 4:  Loss:     0.7787 Validation Accuracy: 0.731800\n",
      "Epoch 12, CIFAR-10 Batch 5:  Loss:     0.8114 Validation Accuracy: 0.721000\n",
      "Epoch 13, CIFAR-10 Batch 1:  Loss:     0.7889 Validation Accuracy: 0.732000\n",
      "Epoch 13, CIFAR-10 Batch 2:  Loss:     0.7991 Validation Accuracy: 0.721600\n",
      "Epoch 13, CIFAR-10 Batch 3:  Loss:     0.7795 Validation Accuracy: 0.734400\n",
      "Epoch 13, CIFAR-10 Batch 4:  Loss:     0.7854 Validation Accuracy: 0.733200\n",
      "Epoch 13, CIFAR-10 Batch 5:  Loss:     0.7741 Validation Accuracy: 0.731800\n",
      "Epoch 14, CIFAR-10 Batch 1:  Loss:     0.7756 Validation Accuracy: 0.731800\n",
      "Epoch 14, CIFAR-10 Batch 2:  Loss:     0.7693 Validation Accuracy: 0.739000\n",
      "Epoch 14, CIFAR-10 Batch 3:  Loss:     0.7859 Validation Accuracy: 0.731400\n",
      "Epoch 14, CIFAR-10 Batch 4:  Loss:     0.7937 Validation Accuracy: 0.723400\n",
      "Epoch 14, CIFAR-10 Batch 5:  Loss:     0.7652 Validation Accuracy: 0.741000\n",
      "Epoch 15, CIFAR-10 Batch 1:  Loss:     0.7958 Validation Accuracy: 0.732800\n",
      "Epoch 15, CIFAR-10 Batch 2:  Loss:     0.7659 Validation Accuracy: 0.738600\n",
      "Epoch 15, CIFAR-10 Batch 3:  Loss:     0.7653 Validation Accuracy: 0.741400\n",
      "Epoch 15, CIFAR-10 Batch 4:  Loss:     0.7888 Validation Accuracy: 0.729800\n",
      "Epoch 15, CIFAR-10 Batch 5:  Loss:     0.7650 Validation Accuracy: 0.742000\n",
      "Epoch 16, CIFAR-10 Batch 1:  Loss:     0.7506 Validation Accuracy: 0.743800\n",
      "Epoch 16, CIFAR-10 Batch 2:  Loss:     0.7700 Validation Accuracy: 0.743200\n",
      "Epoch 16, CIFAR-10 Batch 3:  Loss:     0.7551 Validation Accuracy: 0.744600\n",
      "Epoch 16, CIFAR-10 Batch 4:  Loss:     0.7519 Validation Accuracy: 0.743200\n",
      "Epoch 16, CIFAR-10 Batch 5:  Loss:     0.7369 Validation Accuracy: 0.748000\n",
      "Epoch 17, CIFAR-10 Batch 1:  Loss:     0.7446 Validation Accuracy: 0.748600\n",
      "Epoch 17, CIFAR-10 Batch 2:  Loss:     0.7615 Validation Accuracy: 0.743000\n",
      "Epoch 17, CIFAR-10 Batch 3:  Loss:     0.7948 Validation Accuracy: 0.736400\n",
      "Epoch 17, CIFAR-10 Batch 4:  Loss:     0.7358 Validation Accuracy: 0.749400\n",
      "Epoch 17, CIFAR-10 Batch 5:  Loss:     0.7518 Validation Accuracy: 0.739600\n",
      "Epoch 18, CIFAR-10 Batch 1:  Loss:     0.7297 Validation Accuracy: 0.756600\n",
      "Epoch 18, CIFAR-10 Batch 2:  Loss:     0.7439 Validation Accuracy: 0.751200\n",
      "Epoch 18, CIFAR-10 Batch 3:  Loss:     0.7521 Validation Accuracy: 0.748600\n",
      "Epoch 18, CIFAR-10 Batch 4:  Loss:     0.7298 Validation Accuracy: 0.745400\n",
      "Epoch 18, CIFAR-10 Batch 5:  Loss:     0.7393 Validation Accuracy: 0.748800\n",
      "Epoch 19, CIFAR-10 Batch 1:  Loss:     0.7530 Validation Accuracy: 0.746400\n",
      "Epoch 19, CIFAR-10 Batch 2:  Loss:     0.7483 Validation Accuracy: 0.747000\n",
      "Epoch 19, CIFAR-10 Batch 3:  Loss:     0.7373 Validation Accuracy: 0.752200\n",
      "Epoch 19, CIFAR-10 Batch 4:  Loss:     0.7473 Validation Accuracy: 0.746800\n",
      "Epoch 19, CIFAR-10 Batch 5:  Loss:     0.7582 Validation Accuracy: 0.749600\n",
      "Epoch 20, CIFAR-10 Batch 1:  Loss:     0.7290 Validation Accuracy: 0.755200\n",
      "Epoch 20, CIFAR-10 Batch 2:  Loss:     0.7372 Validation Accuracy: 0.754000\n",
      "Epoch 20, CIFAR-10 Batch 3:  Loss:     0.7321 Validation Accuracy: 0.751400\n",
      "Epoch 20, CIFAR-10 Batch 4:  Loss:     0.7282 Validation Accuracy: 0.753600\n",
      "Epoch 20, CIFAR-10 Batch 5:  Loss:     0.7412 Validation Accuracy: 0.745800\n",
      "Epoch 21, CIFAR-10 Batch 1:  Loss:     0.7376 Validation Accuracy: 0.754200\n",
      "Epoch 21, CIFAR-10 Batch 2:  Loss:     0.7433 Validation Accuracy: 0.748600\n",
      "Epoch 21, CIFAR-10 Batch 3:  Loss:     0.7394 Validation Accuracy: 0.753200\n",
      "Epoch 21, CIFAR-10 Batch 4:  Loss:     0.7487 Validation Accuracy: 0.741800\n",
      "Epoch 21, CIFAR-10 Batch 5:  Loss:     0.7324 Validation Accuracy: 0.756600\n",
      "Epoch 22, CIFAR-10 Batch 1:  Loss:     0.7187 Validation Accuracy: 0.760200\n",
      "Epoch 22, CIFAR-10 Batch 2:  Loss:     0.7462 Validation Accuracy: 0.751600\n",
      "Epoch 22, CIFAR-10 Batch 3:  Loss:     0.7403 Validation Accuracy: 0.751400\n",
      "Epoch 22, CIFAR-10 Batch 4:  Loss:     0.7332 Validation Accuracy: 0.753400\n",
      "Epoch 22, CIFAR-10 Batch 5:  Loss:     0.7422 Validation Accuracy: 0.751400\n",
      "Epoch 23, CIFAR-10 Batch 1:  Loss:     0.7172 Validation Accuracy: 0.766800\n",
      "Epoch 23, CIFAR-10 Batch 2:  Loss:     0.7602 Validation Accuracy: 0.745200\n",
      "Epoch 23, CIFAR-10 Batch 3:  Loss:     0.7309 Validation Accuracy: 0.753400\n",
      "Epoch 23, CIFAR-10 Batch 4:  Loss:     0.7033 Validation Accuracy: 0.763200\n",
      "Epoch 23, CIFAR-10 Batch 5:  Loss:     0.7193 Validation Accuracy: 0.756800\n",
      "Epoch 24, CIFAR-10 Batch 1:  Loss:     0.7219 Validation Accuracy: 0.767600\n",
      "Epoch 24, CIFAR-10 Batch 2:  Loss:     0.7554 Validation Accuracy: 0.752200\n",
      "Epoch 24, CIFAR-10 Batch 3:  Loss:     0.7134 Validation Accuracy: 0.760200\n",
      "Epoch 24, CIFAR-10 Batch 4:  Loss:     0.7109 Validation Accuracy: 0.760000\n",
      "Epoch 24, CIFAR-10 Batch 5:  Loss:     0.7428 Validation Accuracy: 0.751600\n",
      "Epoch 25, CIFAR-10 Batch 1:  Loss:     0.7097 Validation Accuracy: 0.762600\n",
      "Epoch 25, CIFAR-10 Batch 2:  Loss:     0.7640 Validation Accuracy: 0.749200\n",
      "Epoch 25, CIFAR-10 Batch 3:  Loss:     0.7037 Validation Accuracy: 0.762800\n",
      "Epoch 25, CIFAR-10 Batch 4:  Loss:     0.7291 Validation Accuracy: 0.755600\n",
      "Epoch 25, CIFAR-10 Batch 5:  Loss:     0.7101 Validation Accuracy: 0.758400\n",
      "Epoch 26, CIFAR-10 Batch 1:  Loss:     0.7116 Validation Accuracy: 0.764600\n",
      "Epoch 26, CIFAR-10 Batch 2:  Loss:     0.7219 Validation Accuracy: 0.764200\n",
      "Epoch 26, CIFAR-10 Batch 3:  Loss:     0.7253 Validation Accuracy: 0.760400\n",
      "Epoch 26, CIFAR-10 Batch 4:  Loss:     0.7130 Validation Accuracy: 0.762000\n",
      "Epoch 26, CIFAR-10 Batch 5:  Loss:     0.7272 Validation Accuracy: 0.752200\n",
      "Epoch 27, CIFAR-10 Batch 1:  Loss:     0.7062 Validation Accuracy: 0.762400\n",
      "Epoch 27, CIFAR-10 Batch 2:  Loss:     0.7673 Validation Accuracy: 0.747200\n",
      "Epoch 27, CIFAR-10 Batch 3:  Loss:     0.7261 Validation Accuracy: 0.758400\n",
      "Epoch 27, CIFAR-10 Batch 4:  Loss:     0.7164 Validation Accuracy: 0.762800\n",
      "Epoch 27, CIFAR-10 Batch 5:  Loss:     0.7336 Validation Accuracy: 0.753600\n",
      "Epoch 28, CIFAR-10 Batch 1:  Loss:     0.7132 Validation Accuracy: 0.767400\n",
      "Epoch 28, CIFAR-10 Batch 2:  Loss:     0.7303 Validation Accuracy: 0.757400\n",
      "Epoch 28, CIFAR-10 Batch 3:  Loss:     0.7226 Validation Accuracy: 0.766800\n",
      "Epoch 28, CIFAR-10 Batch 4:  Loss:     0.7064 Validation Accuracy: 0.763600\n",
      "Epoch 28, CIFAR-10 Batch 5:  Loss:     0.7263 Validation Accuracy: 0.757200\n",
      "Epoch 29, CIFAR-10 Batch 1:  Loss:     0.7239 Validation Accuracy: 0.759800\n",
      "Epoch 29, CIFAR-10 Batch 2:  Loss:     0.7490 Validation Accuracy: 0.752800\n",
      "Epoch 29, CIFAR-10 Batch 3:  Loss:     0.7312 Validation Accuracy: 0.762200\n",
      "Epoch 29, CIFAR-10 Batch 4:  Loss:     0.7088 Validation Accuracy: 0.760800\n",
      "Epoch 29, CIFAR-10 Batch 5:  Loss:     0.7127 Validation Accuracy: 0.763000\n",
      "Epoch 30, CIFAR-10 Batch 1:  Loss:     0.7110 Validation Accuracy: 0.763400\n",
      "Epoch 30, CIFAR-10 Batch 2:  Loss:     0.7523 Validation Accuracy: 0.756200\n",
      "Epoch 30, CIFAR-10 Batch 3:  Loss:     0.7304 Validation Accuracy: 0.758400\n",
      "Epoch 30, CIFAR-10 Batch 4:  Loss:     0.7070 Validation Accuracy: 0.761600\n",
      "Epoch 30, CIFAR-10 Batch 5:  Loss:     0.7307 Validation Accuracy: 0.760600\n",
      "Epoch 31, CIFAR-10 Batch 1:  Loss:     0.7242 Validation Accuracy: 0.761200\n",
      "Epoch 31, CIFAR-10 Batch 2:  Loss:     0.7504 Validation Accuracy: 0.753600\n",
      "Epoch 31, CIFAR-10 Batch 3:  Loss:     0.7479 Validation Accuracy: 0.754600\n",
      "Epoch 31, CIFAR-10 Batch 4:  Loss:     0.7139 Validation Accuracy: 0.768600\n",
      "Epoch 31, CIFAR-10 Batch 5:  Loss:     0.7056 Validation Accuracy: 0.762200\n",
      "Epoch 32, CIFAR-10 Batch 1:  Loss:     0.6985 Validation Accuracy: 0.766400\n",
      "Epoch 32, CIFAR-10 Batch 2:  Loss:     0.7320 Validation Accuracy: 0.769200\n",
      "Epoch 32, CIFAR-10 Batch 3:  Loss:     0.7103 Validation Accuracy: 0.765600\n",
      "Epoch 32, CIFAR-10 Batch 4:  Loss:     0.7116 Validation Accuracy: 0.764200\n",
      "Epoch 32, CIFAR-10 Batch 5:  Loss:     0.7432 Validation Accuracy: 0.761400\n",
      "Epoch 33, CIFAR-10 Batch 1:  Loss:     0.7023 Validation Accuracy: 0.766400\n",
      "Epoch 33, CIFAR-10 Batch 2:  Loss:     0.7376 Validation Accuracy: 0.760000\n",
      "Epoch 33, CIFAR-10 Batch 3:  Loss:     0.7173 Validation Accuracy: 0.760800\n",
      "Epoch 33, CIFAR-10 Batch 4:  Loss:     0.7132 Validation Accuracy: 0.766800\n",
      "Epoch 33, CIFAR-10 Batch 5:  Loss:     0.7096 Validation Accuracy: 0.759800\n",
      "Epoch 34, CIFAR-10 Batch 1:  Loss:     0.7155 Validation Accuracy: 0.763200\n",
      "Epoch 34, CIFAR-10 Batch 2:  Loss:     0.7757 Validation Accuracy: 0.754200\n",
      "Epoch 34, CIFAR-10 Batch 3:  Loss:     0.7233 Validation Accuracy: 0.760400\n",
      "Epoch 34, CIFAR-10 Batch 4:  Loss:     0.7037 Validation Accuracy: 0.765200\n",
      "Epoch 34, CIFAR-10 Batch 5:  Loss:     0.7281 Validation Accuracy: 0.761200\n",
      "Epoch 35, CIFAR-10 Batch 1:  Loss:     0.7126 Validation Accuracy: 0.764600\n",
      "Epoch 35, CIFAR-10 Batch 2:  Loss:     0.7221 Validation Accuracy: 0.759000\n",
      "Epoch 35, CIFAR-10 Batch 3:  Loss:     0.7264 Validation Accuracy: 0.763400\n",
      "Epoch 35, CIFAR-10 Batch 4:  Loss:     0.6999 Validation Accuracy: 0.767000\n",
      "Epoch 35, CIFAR-10 Batch 5:  Loss:     0.7258 Validation Accuracy: 0.767000\n",
      "Epoch 36, CIFAR-10 Batch 1:  Loss:     0.7200 Validation Accuracy: 0.761200\n",
      "Epoch 36, CIFAR-10 Batch 2:  Loss:     0.7425 Validation Accuracy: 0.757800\n",
      "Epoch 36, CIFAR-10 Batch 3:  Loss:     0.7077 Validation Accuracy: 0.764600\n",
      "Epoch 36, CIFAR-10 Batch 4:  Loss:     0.6981 Validation Accuracy: 0.769000\n",
      "Epoch 36, CIFAR-10 Batch 5:  Loss:     0.7266 Validation Accuracy: 0.763400\n",
      "Epoch 37, CIFAR-10 Batch 1:  Loss:     0.7059 Validation Accuracy: 0.765400\n",
      "Epoch 37, CIFAR-10 Batch 2:  Loss:     0.7090 Validation Accuracy: 0.765000\n",
      "Epoch 37, CIFAR-10 Batch 3:  Loss:     0.7144 Validation Accuracy: 0.765800\n",
      "Epoch 37, CIFAR-10 Batch 4:  Loss:     0.7279 Validation Accuracy: 0.761000\n",
      "Epoch 37, CIFAR-10 Batch 5:  Loss:     0.7220 Validation Accuracy: 0.761000\n",
      "Epoch 38, CIFAR-10 Batch 1:  Loss:     0.7093 Validation Accuracy: 0.769000\n",
      "Epoch 38, CIFAR-10 Batch 2:  Loss:     0.7177 Validation Accuracy: 0.766600\n",
      "Epoch 38, CIFAR-10 Batch 3:  Loss:     0.7204 Validation Accuracy: 0.768400\n",
      "Epoch 38, CIFAR-10 Batch 4:  Loss:     0.7215 Validation Accuracy: 0.763200\n",
      "Epoch 38, CIFAR-10 Batch 5:  Loss:     0.7605 Validation Accuracy: 0.758000\n",
      "Epoch 39, CIFAR-10 Batch 1:  Loss:     0.7055 Validation Accuracy: 0.767800\n",
      "Epoch 39, CIFAR-10 Batch 2:  Loss:     0.7233 Validation Accuracy: 0.768400\n",
      "Epoch 39, CIFAR-10 Batch 3:  Loss:     0.7094 Validation Accuracy: 0.767400\n",
      "Epoch 39, CIFAR-10 Batch 4:  Loss:     0.7129 Validation Accuracy: 0.770400\n",
      "Epoch 39, CIFAR-10 Batch 5:  Loss:     0.7286 Validation Accuracy: 0.760200\n",
      "Epoch 40, CIFAR-10 Batch 1:  Loss:     0.6957 Validation Accuracy: 0.769000\n",
      "Epoch 40, CIFAR-10 Batch 2:  Loss:     0.7152 Validation Accuracy: 0.769800\n",
      "Epoch 40, CIFAR-10 Batch 3:  Loss:     0.7167 Validation Accuracy: 0.762200\n",
      "Epoch 40, CIFAR-10 Batch 4:  Loss:     0.7186 Validation Accuracy: 0.759800\n",
      "Epoch 40, CIFAR-10 Batch 5:  Loss:     0.7139 Validation Accuracy: 0.768400\n",
      "Epoch 41, CIFAR-10 Batch 1:  Loss:     0.6966 Validation Accuracy: 0.762400\n",
      "Epoch 41, CIFAR-10 Batch 2:  Loss:     0.7258 Validation Accuracy: 0.764400\n",
      "Epoch 41, CIFAR-10 Batch 3:  Loss:     0.7347 Validation Accuracy: 0.771200\n",
      "Epoch 41, CIFAR-10 Batch 4:  Loss:     0.7155 Validation Accuracy: 0.769800\n",
      "Epoch 41, CIFAR-10 Batch 5:  Loss:     0.7123 Validation Accuracy: 0.766400\n",
      "Epoch 42, CIFAR-10 Batch 1:  Loss:     0.7042 Validation Accuracy: 0.769000\n",
      "Epoch 42, CIFAR-10 Batch 2:  Loss:     0.6969 Validation Accuracy: 0.774400\n",
      "Epoch 42, CIFAR-10 Batch 3:  Loss:     0.7172 Validation Accuracy: 0.767400\n",
      "Epoch 42, CIFAR-10 Batch 4:  Loss:     0.7159 Validation Accuracy: 0.761800\n",
      "Epoch 42, CIFAR-10 Batch 5:  Loss:     0.7014 Validation Accuracy: 0.770800\n",
      "Epoch 43, CIFAR-10 Batch 1:  Loss:     0.7085 Validation Accuracy: 0.769600\n",
      "Epoch 43, CIFAR-10 Batch 2:  Loss:     0.7333 Validation Accuracy: 0.760800\n",
      "Epoch 43, CIFAR-10 Batch 3:  Loss:     0.7198 Validation Accuracy: 0.761600\n",
      "Epoch 43, CIFAR-10 Batch 4:  Loss:     0.7048 Validation Accuracy: 0.770800\n",
      "Epoch 43, CIFAR-10 Batch 5:  Loss:     0.7340 Validation Accuracy: 0.763000\n",
      "Epoch 44, CIFAR-10 Batch 1:  Loss:     0.6991 Validation Accuracy: 0.767800\n",
      "Epoch 44, CIFAR-10 Batch 2:  Loss:     0.7457 Validation Accuracy: 0.759600\n",
      "Epoch 44, CIFAR-10 Batch 3:  Loss:     0.7434 Validation Accuracy: 0.757600\n",
      "Epoch 44, CIFAR-10 Batch 4:  Loss:     0.7191 Validation Accuracy: 0.761400\n",
      "Epoch 44, CIFAR-10 Batch 5:  Loss:     0.7189 Validation Accuracy: 0.758400\n",
      "Epoch 45, CIFAR-10 Batch 1:  Loss:     0.7160 Validation Accuracy: 0.763000\n",
      "Epoch 45, CIFAR-10 Batch 2:  Loss:     0.7480 Validation Accuracy: 0.760200\n",
      "Epoch 45, CIFAR-10 Batch 3:  Loss:     0.7113 Validation Accuracy: 0.767400\n",
      "Epoch 45, CIFAR-10 Batch 4:  Loss:     0.7002 Validation Accuracy: 0.766400\n",
      "Epoch 45, CIFAR-10 Batch 5:  Loss:     0.7184 Validation Accuracy: 0.765000\n",
      "Epoch 46, CIFAR-10 Batch 1:  Loss:     0.6883 Validation Accuracy: 0.770200\n",
      "Epoch 46, CIFAR-10 Batch 2:  Loss:     0.7371 Validation Accuracy: 0.766000\n",
      "Epoch 46, CIFAR-10 Batch 3:  Loss:     0.7093 Validation Accuracy: 0.768400\n",
      "Epoch 46, CIFAR-10 Batch 4:  Loss:     0.7292 Validation Accuracy: 0.758000\n",
      "Epoch 46, CIFAR-10 Batch 5:  Loss:     0.7503 Validation Accuracy: 0.752200\n",
      "Epoch 47, CIFAR-10 Batch 1:  Loss:     0.7100 Validation Accuracy: 0.770800\n",
      "Epoch 47, CIFAR-10 Batch 2:  Loss:     0.7149 Validation Accuracy: 0.768000\n",
      "Epoch 47, CIFAR-10 Batch 3:  Loss:     0.7122 Validation Accuracy: 0.767200\n",
      "Epoch 47, CIFAR-10 Batch 4:  Loss:     0.7016 Validation Accuracy: 0.767800\n",
      "Epoch 47, CIFAR-10 Batch 5:  Loss:     0.7381 Validation Accuracy: 0.765600\n",
      "Epoch 48, CIFAR-10 Batch 1:  Loss:     0.7040 Validation Accuracy: 0.770200\n",
      "Epoch 48, CIFAR-10 Batch 2:  Loss:     0.7348 Validation Accuracy: 0.762000\n",
      "Epoch 48, CIFAR-10 Batch 3:  Loss:     0.7302 Validation Accuracy: 0.761200\n",
      "Epoch 48, CIFAR-10 Batch 4:  Loss:     0.7165 Validation Accuracy: 0.764000\n",
      "Epoch 48, CIFAR-10 Batch 5:  Loss:     0.7372 Validation Accuracy: 0.761600\n",
      "Epoch 49, CIFAR-10 Batch 1:  Loss:     0.7043 Validation Accuracy: 0.772200\n",
      "Epoch 49, CIFAR-10 Batch 2:  Loss:     0.7260 Validation Accuracy: 0.769000\n",
      "Epoch 49, CIFAR-10 Batch 3:  Loss:     0.7278 Validation Accuracy: 0.765400\n",
      "Epoch 49, CIFAR-10 Batch 4:  Loss:     0.7377 Validation Accuracy: 0.764200\n",
      "Epoch 49, CIFAR-10 Batch 5:  Loss:     0.7341 Validation Accuracy: 0.763400\n",
      "Epoch 50, CIFAR-10 Batch 1:  Loss:     0.7027 Validation Accuracy: 0.770600\n",
      "Epoch 50, CIFAR-10 Batch 2:  Loss:     0.7537 Validation Accuracy: 0.766000\n",
      "Epoch 50, CIFAR-10 Batch 3:  Loss:     0.7170 Validation Accuracy: 0.769400\n",
      "Epoch 50, CIFAR-10 Batch 4:  Loss:     0.7115 Validation Accuracy: 0.767000\n",
      "Epoch 50, CIFAR-10 Batch 5:  Loss:     0.7311 Validation Accuracy: 0.765000\n",
      "Epoch 51, CIFAR-10 Batch 1:  Loss:     0.7034 Validation Accuracy: 0.772400\n",
      "Epoch 51, CIFAR-10 Batch 2:  Loss:     0.7322 Validation Accuracy: 0.760200\n",
      "Epoch 51, CIFAR-10 Batch 3:  Loss:     0.7151 Validation Accuracy: 0.766800\n",
      "Epoch 51, CIFAR-10 Batch 4:  Loss:     0.7123 Validation Accuracy: 0.765600\n",
      "Epoch 51, CIFAR-10 Batch 5:  Loss:     0.7367 Validation Accuracy: 0.768600\n",
      "Epoch 52, CIFAR-10 Batch 1:  Loss:     0.7099 Validation Accuracy: 0.774800\n",
      "Epoch 52, CIFAR-10 Batch 2:  Loss:     0.7123 Validation Accuracy: 0.770000\n",
      "Epoch 52, CIFAR-10 Batch 3:  Loss:     0.7290 Validation Accuracy: 0.766400\n",
      "Epoch 52, CIFAR-10 Batch 4:  Loss:     0.7032 Validation Accuracy: 0.768800\n",
      "Epoch 52, CIFAR-10 Batch 5:  Loss:     0.7363 Validation Accuracy: 0.765800\n",
      "Epoch 53, CIFAR-10 Batch 1:  Loss:     0.7148 Validation Accuracy: 0.766800\n",
      "Epoch 53, CIFAR-10 Batch 2:  Loss:     0.7561 Validation Accuracy: 0.759800\n",
      "Epoch 53, CIFAR-10 Batch 3:  Loss:     0.7186 Validation Accuracy: 0.769400\n",
      "Epoch 53, CIFAR-10 Batch 4:  Loss:     0.7032 Validation Accuracy: 0.766600\n",
      "Epoch 53, CIFAR-10 Batch 5:  Loss:     0.7215 Validation Accuracy: 0.766800\n",
      "Epoch 54, CIFAR-10 Batch 1:  Loss:     0.7298 Validation Accuracy: 0.757600\n",
      "Epoch 54, CIFAR-10 Batch 2:  Loss:     0.7336 Validation Accuracy: 0.765200\n",
      "Epoch 54, CIFAR-10 Batch 3:  Loss:     0.7271 Validation Accuracy: 0.766600\n",
      "Epoch 54, CIFAR-10 Batch 4:  Loss:     0.7042 Validation Accuracy: 0.772000\n",
      "Epoch 54, CIFAR-10 Batch 5:  Loss:     0.7194 Validation Accuracy: 0.766000\n",
      "Epoch 55, CIFAR-10 Batch 1:  Loss:     0.7187 Validation Accuracy: 0.768200\n",
      "Epoch 55, CIFAR-10 Batch 2:  Loss:     0.7361 Validation Accuracy: 0.767200\n",
      "Epoch 55, CIFAR-10 Batch 3:  Loss:     0.7143 Validation Accuracy: 0.767200\n",
      "Epoch 55, CIFAR-10 Batch 4:  Loss:     0.7141 Validation Accuracy: 0.772600\n",
      "Epoch 55, CIFAR-10 Batch 5:  Loss:     0.7331 Validation Accuracy: 0.762400\n",
      "Epoch 56, CIFAR-10 Batch 1:  Loss:     0.7173 Validation Accuracy: 0.767600\n",
      "Epoch 56, CIFAR-10 Batch 2:  Loss:     0.7191 Validation Accuracy: 0.764200\n",
      "Epoch 56, CIFAR-10 Batch 3:  Loss:     0.7220 Validation Accuracy: 0.768400\n",
      "Epoch 56, CIFAR-10 Batch 4:  Loss:     0.7292 Validation Accuracy: 0.766800\n",
      "Epoch 56, CIFAR-10 Batch 5:  Loss:     0.7553 Validation Accuracy: 0.764800\n",
      "Epoch 57, CIFAR-10 Batch 1:  Loss:     0.7249 Validation Accuracy: 0.767600\n",
      "Epoch 57, CIFAR-10 Batch 2:  Loss:     0.7510 Validation Accuracy: 0.765600\n",
      "Epoch 57, CIFAR-10 Batch 3:  Loss:     0.7191 Validation Accuracy: 0.766800\n",
      "Epoch 57, CIFAR-10 Batch 4:  Loss:     0.7157 Validation Accuracy: 0.772800\n",
      "Epoch 57, CIFAR-10 Batch 5:  Loss:     0.7513 Validation Accuracy: 0.766000\n",
      "Epoch 58, CIFAR-10 Batch 1:  Loss:     0.7255 Validation Accuracy: 0.773400\n",
      "Epoch 58, CIFAR-10 Batch 2:  Loss:     0.7683 Validation Accuracy: 0.761200\n",
      "Epoch 58, CIFAR-10 Batch 3:  Loss:     0.7330 Validation Accuracy: 0.765800\n",
      "Epoch 58, CIFAR-10 Batch 4:  Loss:     0.7268 Validation Accuracy: 0.768400\n",
      "Epoch 58, CIFAR-10 Batch 5:  Loss:     0.7342 Validation Accuracy: 0.761000\n",
      "Epoch 59, CIFAR-10 Batch 1:  Loss:     0.7479 Validation Accuracy: 0.758600\n",
      "Epoch 59, CIFAR-10 Batch 2:  Loss:     0.7364 Validation Accuracy: 0.771800\n",
      "Epoch 59, CIFAR-10 Batch 3:  Loss:     0.7210 Validation Accuracy: 0.767600\n",
      "Epoch 59, CIFAR-10 Batch 4:  Loss:     0.7151 Validation Accuracy: 0.770400\n",
      "Epoch 59, CIFAR-10 Batch 5:  Loss:     0.7410 Validation Accuracy: 0.765000\n",
      "Epoch 60, CIFAR-10 Batch 1:  Loss:     0.7298 Validation Accuracy: 0.767600\n",
      "Epoch 60, CIFAR-10 Batch 2:  Loss:     0.7669 Validation Accuracy: 0.756200\n",
      "Epoch 60, CIFAR-10 Batch 3:  Loss:     0.7438 Validation Accuracy: 0.762600\n",
      "Epoch 60, CIFAR-10 Batch 4:  Loss:     0.7091 Validation Accuracy: 0.769400\n",
      "Epoch 60, CIFAR-10 Batch 5:  Loss:     0.7562 Validation Accuracy: 0.758600\n",
      "Epoch 61, CIFAR-10 Batch 1:  Loss:     0.7225 Validation Accuracy: 0.769800\n",
      "Epoch 61, CIFAR-10 Batch 2:  Loss:     0.7491 Validation Accuracy: 0.758000\n",
      "Epoch 61, CIFAR-10 Batch 3:  Loss:     0.7195 Validation Accuracy: 0.769000\n",
      "Epoch 61, CIFAR-10 Batch 4:  Loss:     0.7157 Validation Accuracy: 0.769600\n",
      "Epoch 61, CIFAR-10 Batch 5:  Loss:     0.7191 Validation Accuracy: 0.771000\n",
      "Epoch 62, CIFAR-10 Batch 1:  Loss:     0.7117 Validation Accuracy: 0.769400\n",
      "Epoch 62, CIFAR-10 Batch 2:  Loss:     0.7691 Validation Accuracy: 0.755000\n",
      "Epoch 62, CIFAR-10 Batch 3:  Loss:     0.7396 Validation Accuracy: 0.770200\n",
      "Epoch 62, CIFAR-10 Batch 4:  Loss:     0.7176 Validation Accuracy: 0.770200\n",
      "Epoch 62, CIFAR-10 Batch 5:  Loss:     0.7195 Validation Accuracy: 0.770200\n",
      "Epoch 63, CIFAR-10 Batch 1:  Loss:     0.7332 Validation Accuracy: 0.763000\n",
      "Epoch 63, CIFAR-10 Batch 2:  Loss:     0.7256 Validation Accuracy: 0.770400\n",
      "Epoch 63, CIFAR-10 Batch 3:  Loss:     0.7253 Validation Accuracy: 0.766200\n",
      "Epoch 63, CIFAR-10 Batch 4:  Loss:     0.7571 Validation Accuracy: 0.755000\n",
      "Epoch 63, CIFAR-10 Batch 5:  Loss:     0.7496 Validation Accuracy: 0.765400\n",
      "Epoch 64, CIFAR-10 Batch 1:  Loss:     0.7289 Validation Accuracy: 0.763000\n",
      "Epoch 64, CIFAR-10 Batch 2:  Loss:     0.7493 Validation Accuracy: 0.762000\n",
      "Epoch 64, CIFAR-10 Batch 3:  Loss:     0.7225 Validation Accuracy: 0.766600\n",
      "Epoch 64, CIFAR-10 Batch 4:  Loss:     0.7167 Validation Accuracy: 0.768400\n",
      "Epoch 64, CIFAR-10 Batch 5:  Loss:     0.7103 Validation Accuracy: 0.774000\n",
      "Epoch 65, CIFAR-10 Batch 1:  Loss:     0.6988 Validation Accuracy: 0.769800\n",
      "Epoch 65, CIFAR-10 Batch 2:  Loss:     0.7273 Validation Accuracy: 0.768000\n",
      "Epoch 65, CIFAR-10 Batch 3:  Loss:     0.7209 Validation Accuracy: 0.759600\n",
      "Epoch 65, CIFAR-10 Batch 4:  Loss:     0.7158 Validation Accuracy: 0.766000\n",
      "Epoch 65, CIFAR-10 Batch 5:  Loss:     0.7346 Validation Accuracy: 0.764000\n",
      "Epoch 66, CIFAR-10 Batch 1:  Loss:     0.7095 Validation Accuracy: 0.768000\n",
      "Epoch 66, CIFAR-10 Batch 2:  Loss:     0.7447 Validation Accuracy: 0.767000\n",
      "Epoch 66, CIFAR-10 Batch 3:  Loss:     0.7375 Validation Accuracy: 0.769400\n",
      "Epoch 66, CIFAR-10 Batch 4:  Loss:     0.7242 Validation Accuracy: 0.771000\n",
      "Epoch 66, CIFAR-10 Batch 5:  Loss:     0.7304 Validation Accuracy: 0.765400\n",
      "Epoch 67, CIFAR-10 Batch 1:  Loss:     0.7355 Validation Accuracy: 0.765600\n",
      "Epoch 67, CIFAR-10 Batch 2:  Loss:     0.7499 Validation Accuracy: 0.764000\n",
      "Epoch 67, CIFAR-10 Batch 3:  Loss:     0.7319 Validation Accuracy: 0.770200\n",
      "Epoch 67, CIFAR-10 Batch 4:  Loss:     0.7164 Validation Accuracy: 0.768800\n",
      "Epoch 67, CIFAR-10 Batch 5:  Loss:     0.7302 Validation Accuracy: 0.772400\n",
      "Epoch 68, CIFAR-10 Batch 1:  Loss:     0.7178 Validation Accuracy: 0.772000\n",
      "Epoch 68, CIFAR-10 Batch 2:  Loss:     0.7553 Validation Accuracy: 0.767600\n",
      "Epoch 68, CIFAR-10 Batch 3:  Loss:     0.7302 Validation Accuracy: 0.768800\n",
      "Epoch 68, CIFAR-10 Batch 4:  Loss:     0.7218 Validation Accuracy: 0.772000\n",
      "Epoch 68, CIFAR-10 Batch 5:  Loss:     0.7454 Validation Accuracy: 0.765600\n",
      "Epoch 69, CIFAR-10 Batch 1:  Loss:     0.7579 Validation Accuracy: 0.761600\n",
      "Epoch 69, CIFAR-10 Batch 2:  Loss:     0.7574 Validation Accuracy: 0.766400\n",
      "Epoch 69, CIFAR-10 Batch 3:  Loss:     0.7383 Validation Accuracy: 0.770200\n",
      "Epoch 69, CIFAR-10 Batch 4:  Loss:     0.7215 Validation Accuracy: 0.765600\n",
      "Epoch 69, CIFAR-10 Batch 5:  Loss:     0.7550 Validation Accuracy: 0.765000\n",
      "Epoch 70, CIFAR-10 Batch 1:  Loss:     0.7392 Validation Accuracy: 0.767000\n",
      "Epoch 70, CIFAR-10 Batch 2:  Loss:     0.7316 Validation Accuracy: 0.770800\n",
      "Epoch 70, CIFAR-10 Batch 3:  Loss:     0.7484 Validation Accuracy: 0.761400\n",
      "Epoch 70, CIFAR-10 Batch 4:  Loss:     0.7211 Validation Accuracy: 0.772200\n",
      "Epoch 70, CIFAR-10 Batch 5:  Loss:     0.7283 Validation Accuracy: 0.771200\n",
      "Epoch 71, CIFAR-10 Batch 1:  Loss:     0.7346 Validation Accuracy: 0.769400\n",
      "Epoch 71, CIFAR-10 Batch 2:  Loss:     0.7794 Validation Accuracy: 0.762800\n",
      "Epoch 71, CIFAR-10 Batch 3:  Loss:     0.7621 Validation Accuracy: 0.763600\n",
      "Epoch 71, CIFAR-10 Batch 4:  Loss:     0.7562 Validation Accuracy: 0.762600\n",
      "Epoch 71, CIFAR-10 Batch 5:  Loss:     0.7452 Validation Accuracy: 0.767400\n",
      "Epoch 72, CIFAR-10 Batch 1:  Loss:     0.7371 Validation Accuracy: 0.768600\n",
      "Epoch 72, CIFAR-10 Batch 2:  Loss:     0.7500 Validation Accuracy: 0.767400\n",
      "Epoch 72, CIFAR-10 Batch 3:  Loss:     0.7389 Validation Accuracy: 0.772000\n",
      "Epoch 72, CIFAR-10 Batch 4:  Loss:     0.7570 Validation Accuracy: 0.760600\n",
      "Epoch 72, CIFAR-10 Batch 5:  Loss:     0.7858 Validation Accuracy: 0.762800\n",
      "Epoch 73, CIFAR-10 Batch 1:  Loss:     0.7218 Validation Accuracy: 0.768600\n",
      "Epoch 73, CIFAR-10 Batch 2:  Loss:     0.7618 Validation Accuracy: 0.766400\n",
      "Epoch 73, CIFAR-10 Batch 3:  Loss:     0.7303 Validation Accuracy: 0.773800\n",
      "Epoch 73, CIFAR-10 Batch 4:  Loss:     0.7340 Validation Accuracy: 0.767800\n",
      "Epoch 73, CIFAR-10 Batch 5:  Loss:     0.7492 Validation Accuracy: 0.771200\n",
      "Epoch 74, CIFAR-10 Batch 1:  Loss:     0.7429 Validation Accuracy: 0.767200\n",
      "Epoch 74, CIFAR-10 Batch 2:  Loss:     0.7526 Validation Accuracy: 0.766000\n",
      "Epoch 74, CIFAR-10 Batch 3:  Loss:     0.7175 Validation Accuracy: 0.769800\n",
      "Epoch 74, CIFAR-10 Batch 4:  Loss:     0.7085 Validation Accuracy: 0.769200\n",
      "Epoch 74, CIFAR-10 Batch 5:  Loss:     0.7333 Validation Accuracy: 0.765400\n",
      "Epoch 75, CIFAR-10 Batch 1:  Loss:     0.7324 Validation Accuracy: 0.769400\n",
      "Epoch 75, CIFAR-10 Batch 2:  Loss:     0.7639 Validation Accuracy: 0.756000\n",
      "Epoch 75, CIFAR-10 Batch 3:  Loss:     0.7308 Validation Accuracy: 0.774000\n",
      "Epoch 75, CIFAR-10 Batch 4:  Loss:     0.7233 Validation Accuracy: 0.763600\n",
      "Epoch 75, CIFAR-10 Batch 5:  Loss:     0.7305 Validation Accuracy: 0.769000\n",
      "Epoch 76, CIFAR-10 Batch 1:  Loss:     0.7193 Validation Accuracy: 0.773800\n",
      "Epoch 76, CIFAR-10 Batch 2:  Loss:     0.7530 Validation Accuracy: 0.770600\n",
      "Epoch 76, CIFAR-10 Batch 3:  Loss:     0.7430 Validation Accuracy: 0.770800\n",
      "Epoch 76, CIFAR-10 Batch 4:  Loss:     0.7196 Validation Accuracy: 0.772400\n",
      "Epoch 76, CIFAR-10 Batch 5:  Loss:     0.7532 Validation Accuracy: 0.770600\n",
      "Epoch 77, CIFAR-10 Batch 1:  Loss:     0.7312 Validation Accuracy: 0.770200\n",
      "Epoch 77, CIFAR-10 Batch 2:  Loss:     0.7887 Validation Accuracy: 0.757600\n",
      "Epoch 77, CIFAR-10 Batch 3:  Loss:     0.7362 Validation Accuracy: 0.768200\n",
      "Epoch 77, CIFAR-10 Batch 4:  Loss:     0.7371 Validation Accuracy: 0.767600\n",
      "Epoch 77, CIFAR-10 Batch 5:  Loss:     0.7334 Validation Accuracy: 0.768400\n",
      "Epoch 78, CIFAR-10 Batch 1:  Loss:     0.7327 Validation Accuracy: 0.762200\n",
      "Epoch 78, CIFAR-10 Batch 2:  Loss:     0.7644 Validation Accuracy: 0.769600\n",
      "Epoch 78, CIFAR-10 Batch 3:  Loss:     0.7149 Validation Accuracy: 0.770600\n",
      "Epoch 78, CIFAR-10 Batch 4:  Loss:     0.7200 Validation Accuracy: 0.772600\n",
      "Epoch 78, CIFAR-10 Batch 5:  Loss:     0.7312 Validation Accuracy: 0.776400\n",
      "Epoch 79, CIFAR-10 Batch 1:  Loss:     0.7441 Validation Accuracy: 0.772000\n",
      "Epoch 79, CIFAR-10 Batch 2:  Loss:     0.7593 Validation Accuracy: 0.763800\n",
      "Epoch 79, CIFAR-10 Batch 3:  Loss:     0.7525 Validation Accuracy: 0.768800\n",
      "Epoch 79, CIFAR-10 Batch 4:  Loss:     0.7063 Validation Accuracy: 0.770400\n",
      "Epoch 79, CIFAR-10 Batch 5:  Loss:     0.7615 Validation Accuracy: 0.768000\n",
      "Epoch 80, CIFAR-10 Batch 1:  Loss:     0.7349 Validation Accuracy: 0.769600\n",
      "Epoch 80, CIFAR-10 Batch 2:  Loss:     0.7907 Validation Accuracy: 0.761800\n",
      "Epoch 80, CIFAR-10 Batch 3:  Loss:     0.7435 Validation Accuracy: 0.767000\n",
      "Epoch 80, CIFAR-10 Batch 4:  Loss:     0.7248 Validation Accuracy: 0.773400\n",
      "Epoch 80, CIFAR-10 Batch 5:  Loss:     0.7358 Validation Accuracy: 0.771600\n",
      "Epoch 81, CIFAR-10 Batch 1:  Loss:     0.7534 Validation Accuracy: 0.773200\n",
      "Epoch 81, CIFAR-10 Batch 2:  Loss:     0.7576 Validation Accuracy: 0.765400\n",
      "Epoch 81, CIFAR-10 Batch 3:  Loss:     0.7312 Validation Accuracy: 0.771600\n",
      "Epoch 81, CIFAR-10 Batch 4:  Loss:     0.7322 Validation Accuracy: 0.774600\n",
      "Epoch 81, CIFAR-10 Batch 5:  Loss:     0.7693 Validation Accuracy: 0.765200\n",
      "Epoch 82, CIFAR-10 Batch 1:  Loss:     0.7591 Validation Accuracy: 0.766000\n",
      "Epoch 82, CIFAR-10 Batch 2:  Loss:     0.7595 Validation Accuracy: 0.768000\n",
      "Epoch 82, CIFAR-10 Batch 3:  Loss:     0.7519 Validation Accuracy: 0.768800\n",
      "Epoch 82, CIFAR-10 Batch 4:  Loss:     0.7369 Validation Accuracy: 0.777000\n",
      "Epoch 82, CIFAR-10 Batch 5:  Loss:     0.7426 Validation Accuracy: 0.772000\n",
      "Epoch 83, CIFAR-10 Batch 1:  Loss:     0.7348 Validation Accuracy: 0.772400\n",
      "Epoch 83, CIFAR-10 Batch 2:  Loss:     0.7505 Validation Accuracy: 0.767600\n",
      "Epoch 83, CIFAR-10 Batch 3:  Loss:     0.7611 Validation Accuracy: 0.760000\n",
      "Epoch 83, CIFAR-10 Batch 4:  Loss:     0.7405 Validation Accuracy: 0.769000\n",
      "Epoch 83, CIFAR-10 Batch 5:  Loss:     0.7387 Validation Accuracy: 0.768000\n",
      "Epoch 84, CIFAR-10 Batch 1:  Loss:     0.7224 Validation Accuracy: 0.770800\n",
      "Epoch 84, CIFAR-10 Batch 2:  Loss:     0.7658 Validation Accuracy: 0.769600\n",
      "Epoch 84, CIFAR-10 Batch 3:  Loss:     0.7285 Validation Accuracy: 0.772600\n",
      "Epoch 84, CIFAR-10 Batch 4:  Loss:     0.7305 Validation Accuracy: 0.773200\n",
      "Epoch 84, CIFAR-10 Batch 5:  Loss:     0.7668 Validation Accuracy: 0.766000\n",
      "Epoch 85, CIFAR-10 Batch 1:  Loss:     0.7449 Validation Accuracy: 0.772400\n",
      "Epoch 85, CIFAR-10 Batch 2:  Loss:     0.7579 Validation Accuracy: 0.767000\n",
      "Epoch 85, CIFAR-10 Batch 3:  Loss:     0.7449 Validation Accuracy: 0.769800\n",
      "Epoch 85, CIFAR-10 Batch 4:  Loss:     0.7343 Validation Accuracy: 0.771000\n",
      "Epoch 85, CIFAR-10 Batch 5:  Loss:     0.7214 Validation Accuracy: 0.782200\n",
      "Epoch 86, CIFAR-10 Batch 1:  Loss:     0.7399 Validation Accuracy: 0.775800\n",
      "Epoch 86, CIFAR-10 Batch 2:  Loss:     0.7582 Validation Accuracy: 0.763600\n",
      "Epoch 86, CIFAR-10 Batch 3:  Loss:     0.7261 Validation Accuracy: 0.774800\n",
      "Epoch 86, CIFAR-10 Batch 4:  Loss:     0.7255 Validation Accuracy: 0.772400\n",
      "Epoch 86, CIFAR-10 Batch 5:  Loss:     0.7573 Validation Accuracy: 0.766800\n",
      "Epoch 87, CIFAR-10 Batch 1:  Loss:     0.7601 Validation Accuracy: 0.764800\n",
      "Epoch 87, CIFAR-10 Batch 2:  Loss:     0.7536 Validation Accuracy: 0.768600\n",
      "Epoch 87, CIFAR-10 Batch 3:  Loss:     0.7463 Validation Accuracy: 0.769600\n",
      "Epoch 87, CIFAR-10 Batch 4:  Loss:     0.7322 Validation Accuracy: 0.776200\n",
      "Epoch 87, CIFAR-10 Batch 5:  Loss:     0.7519 Validation Accuracy: 0.772200\n",
      "Epoch 88, CIFAR-10 Batch 1:  Loss:     0.7506 Validation Accuracy: 0.774200\n",
      "Epoch 88, CIFAR-10 Batch 2:  Loss:     0.7670 Validation Accuracy: 0.762400\n",
      "Epoch 88, CIFAR-10 Batch 3:  Loss:     0.7397 Validation Accuracy: 0.767800\n",
      "Epoch 88, CIFAR-10 Batch 4:  Loss:     0.7437 Validation Accuracy: 0.769800\n",
      "Epoch 88, CIFAR-10 Batch 5:  Loss:     0.7657 Validation Accuracy: 0.765600\n",
      "Epoch 89, CIFAR-10 Batch 1:  Loss:     0.7370 Validation Accuracy: 0.769600\n",
      "Epoch 89, CIFAR-10 Batch 2:  Loss:     0.7390 Validation Accuracy: 0.767200\n",
      "Epoch 89, CIFAR-10 Batch 3:  Loss:     0.7335 Validation Accuracy: 0.771800\n",
      "Epoch 89, CIFAR-10 Batch 4:  Loss:     0.7548 Validation Accuracy: 0.768400\n",
      "Epoch 89, CIFAR-10 Batch 5:  Loss:     0.7372 Validation Accuracy: 0.774400\n",
      "Epoch 90, CIFAR-10 Batch 1:  Loss:     0.7276 Validation Accuracy: 0.773400\n",
      "Epoch 90, CIFAR-10 Batch 2:  Loss:     0.7511 Validation Accuracy: 0.769200\n",
      "Epoch 90, CIFAR-10 Batch 3:  Loss:     0.7352 Validation Accuracy: 0.774000\n",
      "Epoch 90, CIFAR-10 Batch 4:  Loss:     0.7197 Validation Accuracy: 0.769400\n",
      "Epoch 90, CIFAR-10 Batch 5:  Loss:     0.7543 Validation Accuracy: 0.769400\n",
      "Epoch 91, CIFAR-10 Batch 1:  Loss:     0.7555 Validation Accuracy: 0.768400\n",
      "Epoch 91, CIFAR-10 Batch 2:  Loss:     0.7737 Validation Accuracy: 0.765800\n",
      "Epoch 91, CIFAR-10 Batch 3:  Loss:     0.7517 Validation Accuracy: 0.768400\n",
      "Epoch 91, CIFAR-10 Batch 4:  Loss:     0.7361 Validation Accuracy: 0.773200\n",
      "Epoch 91, CIFAR-10 Batch 5:  Loss:     0.7630 Validation Accuracy: 0.764400\n",
      "Epoch 92, CIFAR-10 Batch 1:  Loss:     0.7254 Validation Accuracy: 0.774800\n",
      "Epoch 92, CIFAR-10 Batch 2:  Loss:     0.7626 Validation Accuracy: 0.768400\n",
      "Epoch 92, CIFAR-10 Batch 3:  Loss:     0.7402 Validation Accuracy: 0.771000\n",
      "Epoch 92, CIFAR-10 Batch 4:  Loss:     0.7384 Validation Accuracy: 0.770400\n",
      "Epoch 92, CIFAR-10 Batch 5:  Loss:     0.7628 Validation Accuracy: 0.769400\n",
      "Epoch 93, CIFAR-10 Batch 1:  Loss:     0.7335 Validation Accuracy: 0.776400\n",
      "Epoch 93, CIFAR-10 Batch 2:  Loss:     0.7507 Validation Accuracy: 0.771600\n",
      "Epoch 93, CIFAR-10 Batch 3:  Loss:     0.7445 Validation Accuracy: 0.767800\n",
      "Epoch 93, CIFAR-10 Batch 4:  Loss:     0.7353 Validation Accuracy: 0.771800\n",
      "Epoch 93, CIFAR-10 Batch 5:  Loss:     0.7608 Validation Accuracy: 0.767400\n",
      "Epoch 94, CIFAR-10 Batch 1:  Loss:     0.7275 Validation Accuracy: 0.773800\n",
      "Epoch 94, CIFAR-10 Batch 2:  Loss:     0.7771 Validation Accuracy: 0.765000\n",
      "Epoch 94, CIFAR-10 Batch 3:  Loss:     0.7688 Validation Accuracy: 0.762200\n",
      "Epoch 94, CIFAR-10 Batch 4:  Loss:     0.7334 Validation Accuracy: 0.769400\n",
      "Epoch 94, CIFAR-10 Batch 5:  Loss:     0.7510 Validation Accuracy: 0.768200\n",
      "Epoch 95, CIFAR-10 Batch 1:  Loss:     0.7699 Validation Accuracy: 0.770200\n",
      "Epoch 95, CIFAR-10 Batch 2:  Loss:     0.8339 Validation Accuracy: 0.758600\n",
      "Epoch 95, CIFAR-10 Batch 3:  Loss:     0.7951 Validation Accuracy: 0.762200\n",
      "Epoch 95, CIFAR-10 Batch 4:  Loss:     0.7427 Validation Accuracy: 0.767800\n",
      "Epoch 95, CIFAR-10 Batch 5:  Loss:     0.7472 Validation Accuracy: 0.770200\n",
      "Epoch 96, CIFAR-10 Batch 1:  Loss:     0.7418 Validation Accuracy: 0.771800\n",
      "Epoch 96, CIFAR-10 Batch 2:  Loss:     0.7486 Validation Accuracy: 0.773800\n",
      "Epoch 96, CIFAR-10 Batch 3:  Loss:     0.7559 Validation Accuracy: 0.767400\n",
      "Epoch 96, CIFAR-10 Batch 4:  Loss:     0.7442 Validation Accuracy: 0.771800\n",
      "Epoch 96, CIFAR-10 Batch 5:  Loss:     0.7416 Validation Accuracy: 0.768600\n",
      "Epoch 97, CIFAR-10 Batch 1:  Loss:     0.7583 Validation Accuracy: 0.765400\n",
      "Epoch 97, CIFAR-10 Batch 2:  Loss:     0.7864 Validation Accuracy: 0.764600\n",
      "Epoch 97, CIFAR-10 Batch 3:  Loss:     0.7764 Validation Accuracy: 0.764200\n",
      "Epoch 97, CIFAR-10 Batch 4:  Loss:     0.7730 Validation Accuracy: 0.763200\n",
      "Epoch 97, CIFAR-10 Batch 5:  Loss:     0.7603 Validation Accuracy: 0.766600\n",
      "Epoch 98, CIFAR-10 Batch 1:  Loss:     0.7471 Validation Accuracy: 0.765400\n",
      "Epoch 98, CIFAR-10 Batch 2:  Loss:     0.8283 Validation Accuracy: 0.750200\n",
      "Epoch 98, CIFAR-10 Batch 3:  Loss:     0.7595 Validation Accuracy: 0.759600\n",
      "Epoch 98, CIFAR-10 Batch 4:  Loss:     0.7519 Validation Accuracy: 0.769200\n",
      "Epoch 98, CIFAR-10 Batch 5:  Loss:     0.7542 Validation Accuracy: 0.761000\n",
      "Epoch 99, CIFAR-10 Batch 1:  Loss:     0.7430 Validation Accuracy: 0.768400\n",
      "Epoch 99, CIFAR-10 Batch 2:  Loss:     0.7664 Validation Accuracy: 0.762400\n",
      "Epoch 99, CIFAR-10 Batch 3:  Loss:     0.7647 Validation Accuracy: 0.765400\n",
      "Epoch 99, CIFAR-10 Batch 4:  Loss:     0.7446 Validation Accuracy: 0.766400\n",
      "Epoch 99, CIFAR-10 Batch 5:  Loss:     0.7534 Validation Accuracy: 0.764400\n",
      "Epoch 100, CIFAR-10 Batch 1:  Loss:     0.7499 Validation Accuracy: 0.772600\n",
      "Epoch 100, CIFAR-10 Batch 2:  Loss:     0.8079 Validation Accuracy: 0.756200\n",
      "Epoch 100, CIFAR-10 Batch 3:  Loss:     0.7499 Validation Accuracy: 0.768000\n",
      "Epoch 100, CIFAR-10 Batch 4:  Loss:     0.7321 Validation Accuracy: 0.765800\n",
      "Epoch 100, CIFAR-10 Batch 5:  Loss:     0.7651 Validation Accuracy: 0.764800\n"
     ]
    }
   ],
   "source": [
    "\"\"\"\n",
    "DON'T MODIFY ANYTHING IN THIS CELL\n",
    "\"\"\"\n",
    "save_model_path = './image_classification'\n",
    "\n",
    "print('Training...')\n",
    "with tf.Session() as sess:\n",
    "    # Initializing the variables\n",
    "    sess.run(tf.global_variables_initializer())\n",
    "    \n",
    "    # Training cycle\n",
    "    for epoch in range(epochs):\n",
    "        # Loop over all batches\n",
    "        n_batches = 5\n",
    "        for batch_i in range(1, n_batches + 1):\n",
    "            for batch_features, batch_labels in helper.load_preprocess_training_batch(batch_i, batch_size):\n",
    "                train_neural_network(sess, optimizer, keep_probability, batch_features, batch_labels)\n",
    "            print('Epoch {:>2}, CIFAR-10 Batch {}:  '.format(epoch + 1, batch_i), end='')\n",
    "            print_stats(sess, batch_features, batch_labels, cost, accuracy)\n",
    "            \n",
    "    # Save Model\n",
    "    saver = tf.train.Saver()\n",
    "    save_path = saver.save(sess, save_model_path)"
   ]
  },
  {
   "cell_type": "markdown",
   "metadata": {
    "deletable": true,
    "editable": true
   },
   "source": [
    "# Checkpoint\n",
    "The model has been saved to disk.\n",
    "## Test Model\n",
    "Test your model against the test dataset.  This will be your final accuracy. You should have an accuracy greater than 50%. If you don't, keep tweaking the model architecture and parameters."
   ]
  },
  {
   "cell_type": "code",
   "execution_count": 102,
   "metadata": {
    "collapsed": false,
    "deletable": true,
    "editable": true
   },
   "outputs": [
    {
     "name": "stdout",
     "output_type": "stream",
     "text": [
      "Testing Accuracy: 0.7662221337579618\n",
      "\n"
     ]
    },
    {
     "data": {
      "image/png": "[encoded data removed]",
      "text/plain": [
       "<matplotlib.figure.Figure at 0x7f7fc00943c8>"
      ]
     },
     "metadata": {
      "image/png": {
       "height": 319,
       "width": 355
      }
     },
     "output_type": "display_data"
    }
   ],
   "source": [
    "\"\"\"\n",
    "DON'T MODIFY ANYTHING IN THIS CELL\n",
    "\"\"\"\n",
    "%matplotlib inline\n",
    "%config InlineBackend.figure_format = 'retina'\n",
    "\n",
    "import tensorflow as tf\n",
    "import pickle\n",
    "import helper\n",
    "import random\n",
    "\n",
    "# Set batch size if not already set\n",
    "try:\n",
    "    if batch_size:\n",
    "        pass\n",
    "except NameError:\n",
    "    batch_size = 64\n",
    "\n",
    "save_model_path = './image_classification'\n",
    "n_samples = 4\n",
    "top_n_predictions = 3\n",
    "\n",
    "def test_model():\n",
    "    \"\"\"\n",
    "    Test the saved model against the test dataset\n",
    "    \"\"\"\n",
    "\n",
    "    test_features, test_labels = pickle.load(open('preprocess_training.p', mode='rb'))\n",
    "    loaded_graph = tf.Graph()\n",
    "\n",
    "    with tf.Session(graph=loaded_graph) as sess:\n",
    "        # Load model\n",
    "        loader = tf.train.import_meta_graph(save_model_path + '.meta')\n",
    "        loader.restore(sess, save_model_path)\n",
    "\n",
    "        # Get Tensors from loaded model\n",
    "        loaded_x = loaded_graph.get_tensor_by_name('x:0')\n",
    "        loaded_y = loaded_graph.get_tensor_by_name('y:0')\n",
    "        loaded_keep_prob = loaded_graph.get_tensor_by_name('keep_prob:0')\n",
    "        loaded_logits = loaded_graph.get_tensor_by_name('logits:0')\n",
    "        loaded_acc = loaded_graph.get_tensor_by_name('accuracy:0')\n",
    "        \n",
    "        # Get accuracy in batches for memory limitations\n",
    "        test_batch_acc_total = 0\n",
    "        test_batch_count = 0\n",
    "        \n",
    "        for train_feature_batch, train_label_batch in helper.batch_features_labels(test_features, test_labels, batch_size):\n",
    "            test_batch_acc_total += sess.run(\n",
    "                loaded_acc,\n",
    "                feed_dict={loaded_x: train_feature_batch, loaded_y: train_label_batch, loaded_keep_prob: 1.0})\n",
    "            test_batch_count += 1\n",
    "\n",
    "        print('Testing Accuracy: {}\\n'.format(test_batch_acc_total/test_batch_count))\n",
    "\n",
    "        # Print Random Samples\n",
    "        random_test_features, random_test_labels = tuple(zip(*random.sample(list(zip(test_features, test_labels)), n_samples)))\n",
    "        random_test_predictions = sess.run(\n",
    "            tf.nn.top_k(tf.nn.softmax(loaded_logits), top_n_predictions),\n",
    "            feed_dict={loaded_x: random_test_features, loaded_y: random_test_labels, loaded_keep_prob: 1.0})\n",
    "        helper.display_image_predictions(random_test_features, random_test_labels, random_test_predictions)\n",
    "\n",
    "\n",
    "test_model()"
   ]
  },
  {
   "cell_type": "markdown",
   "metadata": {
    "deletable": true,
    "editable": true
   },
   "source": [
    "## Why 50-80% Accuracy?\n",
    "You might be wondering why you can't get an accuracy any higher. First things first, 50% isn't bad for a simple CNN.  Pure guessing would get you 10% accuracy. However, you might notice people are getting scores [well above 80%](http://rodrigob.github.io/are_we_there_yet/build/classification_datasets_results.html#43494641522d3130).  That's because we haven't taught you all there is to know about neural networks. We still need to cover a few more techniques.\n",
    "## Submitting This Project\n",
    "When submitting this project, make sure to run all the cells before saving the notebook.  Save the notebook file as \"dlnd_image_classification.ipynb\" and save it as a HTML file under \"File\" -> \"Download as\".  Include the \"helper.py\" and \"problem_unittests.py\" files in your submission."
   ]
  },
  {
   "cell_type": "code",
   "execution_count": null,
   "metadata": {
    "collapsed": true
   },
   "outputs": [],
   "source": []
  }
 ],
 "metadata": {
  "kernelspec": {
   "display_name": "Python 3",
   "language": "python",
   "name": "python3"
  },
  "language_info": {
   "codemirror_mode": {
    "name": "ipython",
    "version": 3
   },
   "file_extension": ".py",
   "mimetype": "text/x-python",
   "name": "python",
   "nbconvert_exporter": "python",
   "pygments_lexer": "ipython3",
   "version": "3.5.2"
  },
  "widgets": {
   "state": {},
   "version": "1.1.2"
  }
 },
 "nbformat": 4,
 "nbformat_minor": 0
}
